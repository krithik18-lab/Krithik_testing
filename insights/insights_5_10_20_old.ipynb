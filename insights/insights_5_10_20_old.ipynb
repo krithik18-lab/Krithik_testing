{
 "cells": [
  {
   "cell_type": "code",
   "execution_count": 9,
   "id": "15710ec1",
   "metadata": {},
   "outputs": [],
   "source": [
    "# Imports\n",
    "\n",
    "import polars as pl\n",
    "\n",
    "from compute_top_spending_cohorts import compute_top_spending_cohorts\n",
    "from compute_emerging_cohorts import compute_emerging_cohorts\n",
    "from compute_outlier_cohorts import compute_outlier_cohorts\n",
    "\n",
    "from cohorts_diseases import get_cohort_diseases_icd_level_1, get_cohort_diseases_icd_level_2, get_cohort_diseases_chronic, get_cohort_diseases_trigger_level_2\n",
    "\n",
    "from cohorts_procedures import get_cohort_procedures\n",
    "\n",
    "from cohorts_facilities import get_cohort_facilities\n",
    "\n",
    "from cohorts_drugs import get_cohort_drugs_usage\n",
    "\n",
    "from cohorts_demographics import get_cohort_demographics_ages, get_cohort_demographics_relationships, get_cohort_demographics_genders\n",
    "\n",
    "from cohorts_providers import get_cohort_individual_medical_provider, get_cohort_medical_provider_speciality, get_cohort_individual_rx_provider"
   ]
  },
  {
   "cell_type": "code",
   "execution_count": 10,
   "id": "28f1c1c4",
   "metadata": {},
   "outputs": [
    {
     "data": {
      "text/plain": [
       "polars.config.Config"
      ]
     },
     "execution_count": 10,
     "metadata": {},
     "output_type": "execute_result"
    }
   ],
   "source": [
    "# Polars display configurations\n",
    "\n",
    "pl.Config.set_float_precision(2)\n",
    "pl.Config.set_fmt_float(\"full\")\n",
    "pl.Config.set_fmt_str_lengths(200)\n",
    "pl.Config.set_tbl_cell_numeric_alignment(\"RIGHT\")\n",
    "pl.Config.set_tbl_hide_dataframe_shape(False)\n",
    "pl.Config.set_tbl_rows(20)\n",
    "pl.Config.set_tbl_width_chars(8000)\n",
    "pl.Config.set_thousands_separator(\",\")"
   ]
  },
  {
   "cell_type": "code",
   "execution_count": 11,
   "id": "70c66ff6",
   "metadata": {},
   "outputs": [],
   "source": [
    "# Constants\n",
    "\n",
    "eg_nid = \"PS\" \n",
    "reference_date = \"2025-05-10\""
   ]
  },
  {
   "cell_type": "code",
   "execution_count": 12,
   "id": "6f403bb0",
   "metadata": {},
   "outputs": [],
   "source": [
    "# df1 = pl.DataFrame({\"spend\": top_spending_diseases_icd_level_2})\n",
    "# df2 = pl.DataFrame({\"spend\": top_spending_procedures})\n",
    "# df3 = pl.DataFrame({\"spend\": top_spending_drugs})\n",
    "# df4 = pl.DataFrame({\"spend\": top_spending_providers})\n",
    "\n",
    "# print(df1)\n",
    "\n",
    "# results = pl.concat([df1, df2, df3, df4], how=\"vertical_relaxed\")\n",
    "\n",
    "# results_flat = results.select([\n",
    "#     pl.col(\"spend\").struct.field(\"cohort_name\").alias(\"cohort_name\"),\n",
    "#     pl.col(\"spend\").struct.field(\"spend\").cast(pl.Float64).alias(\"spend\")\n",
    "# ])\n",
    "\n",
    "# filtered_sorted = (\n",
    "#     results_flat\n",
    "#     .filter(\n",
    "#         (pl.col(\"cohort_name\") != \"*\") & (pl.col(\"cohort_name\") != \"None\")\n",
    "#     )\n",
    "#     .sort(\"spend\", descending=True)\n",
    "#     .head(3)   \n",
    "# )\n"
   ]
  },
  {
   "cell_type": "markdown",
   "id": "92826d09",
   "metadata": {},
   "source": [
    "### By Shreesh - type 1"
   ]
  },
  {
   "cell_type": "code",
   "execution_count": null,
   "id": "c8ebd974",
   "metadata": {},
   "outputs": [],
   "source": [
    "def new_top_n_rows(df: pl.DataFrame, analysis_type):\n",
    "    df = df.filter(pl.col(\"cohort_name\") != \"*\", pl.col(\"cohort_name\") != \"None\")\n",
    "    if analysis_type == \"top spending\":\n",
    "        df = df.sort(\"spend\", descending=True)\n",
    "        df = df.head(3)\n",
    "        return df\n",
    "    elif analysis_type == \"surge in spending\" or analysis_type == \"emerging spending\":\n",
    "        df = df.sort(\"pct_increase\", descending=True)\n",
    "        df = df.head(3)\n",
    "        return df\n",
    "    else:\n",
    "        print(\"Invalid analysis type. Please choose 'top spending', 'surge in spending', or 'emerging spending'.\")\n",
    "       \n",
    "       return None\n",
    "\n"
   ]
  },
  {
   "cell_type": "code",
   "execution_count": null,
   "id": "edf641de",
   "metadata": {},
   "outputs": [
    {
     "data": {
      "text/plain": [
       "[(1, 6, 'a'), (2, 7, 'b'), (3, 8, 'c')]"
      ]
     },
     "execution_count": 51,
     "metadata": {},
     "output_type": "execute_result"
    }
   ],
   "source": [
    "def new_top_n_rows(df: pl.DataFrame):\n",
    "    # df = df.filter(pl.col(\"cohort_name\") != \"*\", pl.col(\"cohort_name\") != \"None\")\n",
    "    # if analysis_type == \"top spending\":\n",
    "    #     df = df.sort(\"spend\", descending=True)\n",
    "    #     df = df.head(3)\n",
    "    #     return df\n",
    "    # elif analysis_type == \"surge in spending\" or analysis_type == \"emerging spending\":\n",
    "    #     df = df.sort(\"pct_increase\", descending=True)\n",
    "    #     df = df.head(3)\n",
    "    #     return df\n",
    "    # else:\n",
    "    #     print(\"Invalid analysis type. Please choose 'top spending', 'surge in spending', or 'emerging spending'.\")\n",
    "       \n",
    "    #    return None\n",
    "\n",
    "    if len(df.columns) == 2: # top spending\n",
    "\n"
   ]
  },
  {
   "cell_type": "code",
   "execution_count": null,
   "id": "5afb29c6",
   "metadata": {},
   "outputs": [
    {
     "data": {
      "text/plain": [
       "False"
      ]
     },
     "execution_count": 2,
     "metadata": {},
     "output_type": "execute_result"
    }
   ],
   "source": [
    "x = 4\n",
    "y = [1, 2, 3]\n",
    "1 in y\n",
    "\n",
    "int x = 1;\n",
    "x=1\n"
   ]
  },
  {
   "cell_type": "code",
   "execution_count": 14,
   "id": "7f4ce571",
   "metadata": {},
   "outputs": [],
   "source": [
    "# all_top_spending_dataframes = pl.concat([\n",
    "#     surge_in_spending_diseases_icd_level_2.sort(\"pct_increase\",descending=True).head(10), \n",
    "#     surge_in_spending_procedures.sort(\"pct_increase\",descending=True).head(10), \n",
    "#     # surge_in_spending_drugs.sort(\"pct_increase\",descending=True).head(10), \n",
    "#     # surge_in_spending_providers_medical_speciality.sort(\"pct_increase\",descending=True).head(10)])\n",
    "# ])\n",
    "\n",
    "# # print(all_top_spending_dataframes.unique())\n",
    "\n",
    "# new_top_n_rows(all_top_spending_dataframes, \"surge in spending\")"
   ]
  },
  {
   "cell_type": "markdown",
   "id": "33873cf8",
   "metadata": {},
   "source": [
    "# TOP SPENDING COHORTS - TOP 3 EXPENSES"
   ]
  },
  {
   "cell_type": "code",
   "execution_count": null,
   "id": "4b966258",
   "metadata": {},
   "outputs": [],
   "source": []
  },
  {
   "cell_type": "markdown",
   "id": "6bbbf588",
   "metadata": {},
   "source": [
    "# Top Spending Cohorts - Diseases (ICD Level 2)"
   ]
  },
  {
   "cell_type": "code",
   "execution_count": 15,
   "id": "0895b510",
   "metadata": {},
   "outputs": [],
   "source": [
    "top_spending_diseases_icd_level_2 = compute_top_spending_cohorts(\n",
    "    claims_df=get_cohort_diseases_icd_level_2(eg_nid=eg_nid), reference_date=reference_date,\n",
    "    number_of_rows=5\n",
    ").collect()"
   ]
  },
  {
   "cell_type": "markdown",
   "id": "0220379b",
   "metadata": {},
   "source": [
    "##### Top 5"
   ]
  },
  {
   "cell_type": "code",
   "execution_count": 16,
   "id": "777f45ea",
   "metadata": {},
   "outputs": [
    {
     "name": "stdout",
     "output_type": "stream",
     "text": [
      "shape: (5, 2)\n",
      "┌────────────────────────────────────────────────────────────────────┬────────────┐\n",
      "│ cohort_name                                                        ┆      spend │\n",
      "│ ---                                                                ┆        --- │\n",
      "│ str                                                                ┆        f64 │\n",
      "╞════════════════════════════════════════════════════════════════════╪════════════╡\n",
      "│  Malignant neoplasms of lymphoid, hematopoietic and related tissue ┆ 506,320.65 │\n",
      "│  Osteoarthritis                                                    ┆ 330,809.30 │\n",
      "│  Encounters for other specific health care                         ┆ 311,173.55 │\n",
      "│  Hemorrhagic and hematological disorders of newborn                ┆ 297,557.61 │\n",
      "│  Acute kidney failure and chronic kidney disease                   ┆ 291,109.99 │\n",
      "└────────────────────────────────────────────────────────────────────┴────────────┘\n"
     ]
    }
   ],
   "source": [
    "print(top_spending_diseases_icd_level_2)"
   ]
  },
  {
   "cell_type": "markdown",
   "id": "1de54679",
   "metadata": {},
   "source": [
    "---"
   ]
  },
  {
   "cell_type": "markdown",
   "id": "1bc0051a",
   "metadata": {},
   "source": [
    "# Top Spending Cohorts - Procedures (Type of Service)\n",
    "\n"
   ]
  },
  {
   "cell_type": "code",
   "execution_count": 17,
   "id": "9ece643a",
   "metadata": {},
   "outputs": [],
   "source": [
    "top_spending_procedures = compute_top_spending_cohorts(\n",
    "    claims_df=get_cohort_procedures(eg_nid=eg_nid),\n",
    "    reference_date=reference_date,\n",
    "    number_of_rows=6\n",
    ").collect()"
   ]
  },
  {
   "cell_type": "markdown",
   "id": "217d6958",
   "metadata": {},
   "source": [
    "##### Top 5"
   ]
  },
  {
   "cell_type": "code",
   "execution_count": 18,
   "id": "0e38ea20",
   "metadata": {},
   "outputs": [
    {
     "name": "stdout",
     "output_type": "stream",
     "text": [
      "shape: (5, 2)\n",
      "┌────────────────────────────────────────────────────┬──────────────┐\n",
      "│ cohort_name                                        ┆        spend │\n",
      "│ ---                                                ┆          --- │\n",
      "│ str                                                ┆          f64 │\n",
      "╞════════════════════════════════════════════════════╪══════════════╡\n",
      "│ E&M (Office/Outpatient Services)                   ┆ 1,058,813.02 │\n",
      "│ E&M (Behavioral Health Services)                   ┆   304,546.09 │\n",
      "│ Other (Ambulance)                                  ┆   277,621.42 │\n",
      "│ Treatment (Injections and Infusions (nononcolog... ┆   248,133.55 │\n",
      "│ Anesthesia (Anesthesia)                            ┆   205,667.55 │\n",
      "└────────────────────────────────────────────────────┴──────────────┘\n"
     ]
    }
   ],
   "source": [
    "print(top_spending_procedures.filter(pl.col(\"cohort_name\") != \"*\"))"
   ]
  },
  {
   "cell_type": "markdown",
   "id": "296c1a35",
   "metadata": {},
   "source": [
    "---"
   ]
  },
  {
   "cell_type": "markdown",
   "id": "76c7131f",
   "metadata": {},
   "source": [
    "# Top Spending Cohorts - Drug Classes"
   ]
  },
  {
   "cell_type": "code",
   "execution_count": 19,
   "id": "cbfc415f",
   "metadata": {},
   "outputs": [],
   "source": [
    "top_spending_drugs = compute_top_spending_cohorts(\n",
    "    claims_df=get_cohort_drugs_usage(eg_nid=eg_nid),\n",
    "    reference_date=reference_date,\n",
    "    number_of_rows=5\n",
    ").collect()"
   ]
  },
  {
   "cell_type": "markdown",
   "id": "bcd4ec32",
   "metadata": {},
   "source": [
    "##### Top 5"
   ]
  },
  {
   "cell_type": "code",
   "execution_count": 20,
   "id": "686d3f4b",
   "metadata": {},
   "outputs": [
    {
     "name": "stdout",
     "output_type": "stream",
     "text": [
      "shape: (5, 2)\n",
      "┌───────────────────────────────────────┬──────────────┐\n",
      "│ cohort_name                           ┆        spend │\n",
      "│ ---                                   ┆          --- │\n",
      "│ str                                   ┆          f64 │\n",
      "╞═══════════════════════════════════════╪══════════════╡\n",
      "│ Immunosuppressants                    ┆ 2,312,603.13 │\n",
      "│ Drugs Used In Diabetes                ┆   589,535.72 │\n",
      "│ Other Nervous System Drugs            ┆   187,774.15 │\n",
      "│ Drugs For Obstructive Airway Diseases ┆   120,708.26 │\n",
      "│ Analgesics                            ┆    77,971.92 │\n",
      "└───────────────────────────────────────┴──────────────┘\n"
     ]
    }
   ],
   "source": [
    "print(top_spending_drugs)"
   ]
  },
  {
   "cell_type": "markdown",
   "id": "45133501",
   "metadata": {},
   "source": [
    "---"
   ]
  },
  {
   "cell_type": "markdown",
   "id": "03c93093",
   "metadata": {},
   "source": [
    "# Top Sepnding Cohorts - Providers (Medical Speciality)"
   ]
  },
  {
   "cell_type": "code",
   "execution_count": 21,
   "id": "18a117b2",
   "metadata": {},
   "outputs": [],
   "source": [
    "top_spending_providers = compute_top_spending_cohorts(\n",
    "    claims_df=get_cohort_medical_provider_speciality(eg_nid=eg_nid),\n",
    "    reference_date=reference_date,\n",
    "    number_of_rows=6\n",
    ").collect()"
   ]
  },
  {
   "cell_type": "markdown",
   "id": "9dd761f8",
   "metadata": {},
   "source": [
    "##### Top 5"
   ]
  },
  {
   "cell_type": "code",
   "execution_count": 22,
   "id": "19c48ea3",
   "metadata": {},
   "outputs": [
    {
     "name": "stdout",
     "output_type": "stream",
     "text": [
      "shape: (5, 2)\n",
      "┌─────────────────────────────────────────────┬──────────────┐\n",
      "│ cohort_name                                 ┆        spend │\n",
      "│ ---                                         ┆          --- │\n",
      "│ str                                         ┆          f64 │\n",
      "╞═════════════════════════════════════════════╪══════════════╡\n",
      "│ Hospital Short Term  General and Specialty  ┆ 1,706,251.37 │\n",
      "│ Hospital Psychiatric Unit                   ┆   931,914.47 │\n",
      "│ Ambulance Service Provider                  ┆   531,101.09 │\n",
      "│ Hospital Rehabilitation Unit                ┆   413,872.97 │\n",
      "│ Physician Assistant                         ┆   314,240.19 │\n",
      "└─────────────────────────────────────────────┴──────────────┘\n"
     ]
    }
   ],
   "source": [
    "print(top_spending_providers.filter(pl.col(\"cohort_name\") != \"None\"))"
   ]
  },
  {
   "cell_type": "markdown",
   "id": "b180f92e",
   "metadata": {},
   "source": [
    "---"
   ]
  },
  {
   "cell_type": "code",
   "execution_count": 23,
   "id": "93c8f547",
   "metadata": {},
   "outputs": [],
   "source": [
    "# df1 = pl.DataFrame({\"pct_increase\": surge_in_spending_diseases_icd_level_2})\n",
    "# df2 = pl.DataFrame({\"pct_increase\": surge_in_spending_procedures})\n",
    "# df3 = pl.DataFrame({\"pct_increase\": surge_in_spending_drugs})\n",
    "# df4 = pl.DataFrame({\"pct_increase\": surge_in_spending_providers_medical_speciality})\n",
    "\n",
    "# results = pl.concat([df1, df2, df3, df4], how=\"vertical_relaxed\")\n",
    "\n",
    "# results_flat = results.select([\n",
    "#     pl.col(\"pct_increase\").struct.field(\"cohort_name\").alias(\"cohort_name\"),\n",
    "#     pl.col(\"pct_increase\").struct.field(\"pct_increase\").cast(pl.Float64).alias(\"pct_increase\")\n",
    "# ])\n",
    "\n",
    "# filtered_sorted = (\n",
    "#     results_flat\n",
    "#     .filter(\n",
    "#         (pl.col(\"cohort_name\") != \"*\") & (pl.col(\"cohort_name\") != \"None\")\n",
    "#     )\n",
    "#     .sort(\"pct_increase\", descending=True)\n",
    "#     .head(3)   \n",
    "# )\n",
    "\n",
    "\n"
   ]
  },
  {
   "cell_type": "markdown",
   "id": "4d711a46",
   "metadata": {},
   "source": [
    "# TOP SURGE SPENDING COHORTS - TOP 3 BY % INCREASE"
   ]
  },
  {
   "cell_type": "code",
   "execution_count": 24,
   "id": "13acadd6",
   "metadata": {},
   "outputs": [],
   "source": [
    "\n",
    "#print(filtered_sorted)"
   ]
  },
  {
   "cell_type": "markdown",
   "id": "4eda5205",
   "metadata": {},
   "source": [
    "# Surge in Spending Cohorts - Diseases (ICD Level 2)\n",
    "\n"
   ]
  },
  {
   "cell_type": "code",
   "execution_count": 25,
   "id": "49b52e11",
   "metadata": {},
   "outputs": [],
   "source": [
    "surge_in_spending_diseases_icd_level_2 = compute_outlier_cohorts(\n",
    "    claims_df=get_cohort_diseases_icd_level_2(eg_nid=eg_nid), reference_date=reference_date,\n",
    "    number_of_rows=20   \n",
    ").collect()\n",
    "\n"
   ]
  },
  {
   "cell_type": "markdown",
   "id": "ac9b5b5f",
   "metadata": {},
   "source": []
  },
  {
   "cell_type": "markdown",
   "id": "1fbb2acb",
   "metadata": {},
   "source": [
    "##### Top 10"
   ]
  },
  {
   "cell_type": "code",
   "execution_count": 26,
   "id": "02ff471a",
   "metadata": {},
   "outputs": [
    {
     "name": "stdout",
     "output_type": "stream",
     "text": [
      "shape: (10, 4)\n",
      "┌────────────────────────────────────────────────────────────────────────────────────────────────────────────────────────────────┬──────────────┬──────────────┬──────────────┐\n",
      "│ cohort_name                                                                                                                    ┆ avg_3m_spend ┆ avg_3y_spend ┆ pct_increase │\n",
      "│ ---                                                                                                                            ┆          --- ┆          --- ┆          --- │\n",
      "│ str                                                                                                                            ┆          f64 ┆          f64 ┆          f64 │\n",
      "╞════════════════════════════════════════════════════════════════════════════════════════════════════════════════════════════════╪══════════════╪══════════════╪══════════════╡\n",
      "│  Diseases of veins, lymphatic vessels and lymph nodes, not elsewhere classified                                                ┆    22,513.28 ┆     2,820.41 ┆       698.23 │\n",
      "│  Other osteopathies                                                                                                            ┆    18,256.50 ┆     2,722.98 ┆       570.46 │\n",
      "│  Persons with potential health hazards related to family and personal history and certain conditions influencing health status ┆    22,744.26 ┆     4,878.31 ┆       366.23 │\n",
      "│  Diseases of esophagus, stomach and duodenum                                                                                   ┆     9,098.29 ┆     3,882.47 ┆       134.34 │\n",
      "│  Urolithiasis                                                                                                                  ┆     4,807.06 ┆     2,859.92 ┆        68.08 │\n",
      "│  Benign neoplasms, except benign neuroendocrine tumors                                                                         ┆     7,205.66 ┆     4,479.95 ┆        60.84 │\n",
      "│  Malignant neoplasms of digestive organs                                                                                       ┆    11,698.06 ┆     9,793.53 ┆        19.45 │\n",
      "│  Biomechanical lesions, not elsewhere classified                                                                               ┆     4,295.59 ┆     3,781.26 ┆        13.60 │\n",
      "│  Other forms of heart disease                                                                                                  ┆    14,967.05 ┆    13,226.85 ┆        13.16 │\n",
      "│  Mood [affective] disorders                                                                                                    ┆     9,014.73 ┆     8,288.45 ┆         8.76 │\n",
      "└────────────────────────────────────────────────────────────────────────────────────────────────────────────────────────────────┴──────────────┴──────────────┴──────────────┘\n"
     ]
    }
   ],
   "source": [
    "#print(surge_in_spending_diseases_icd_level_2.sort(\"pct_increase\",descending=True).head(10))\n",
    "if (\n",
    "    surge_in_spending_diseases_icd_level_2 is not None and\n",
    "    surge_in_spending_diseases_icd_level_2.shape[0] > 0 and\n",
    "    \"pct_increase\" in surge_in_spending_diseases_icd_level_2.columns\n",
    "):\n",
    "    print(\n",
    "        surge_in_spending_diseases_icd_level_2\n",
    "        .sort(\"pct_increase\", descending=True)\n",
    "        .head(10)\n",
    "    )\n",
    "else:\n",
    "    print(\" Surge in spending diseases data is not available, due to the lack of sufficient amount of historical data. \")\n"
   ]
  },
  {
   "cell_type": "markdown",
   "id": "a28750dc",
   "metadata": {},
   "source": [
    "---"
   ]
  },
  {
   "cell_type": "markdown",
   "id": "17f70f20",
   "metadata": {},
   "source": [
    "# Surge in Spending Cohorts - Procedures (Type of Service)\n",
    "\n"
   ]
  },
  {
   "cell_type": "code",
   "execution_count": 27,
   "id": "0f8457cc",
   "metadata": {},
   "outputs": [],
   "source": [
    "surge_in_spending_procedures = compute_outlier_cohorts(\n",
    "   claims_df=get_cohort_procedures(eg_nid=eg_nid),\n",
    "   reference_date=reference_date,\n",
    "   number_of_rows=15\n",
    ").collect()"
   ]
  },
  {
   "cell_type": "code",
   "execution_count": 28,
   "id": "add22ef9",
   "metadata": {},
   "outputs": [
    {
     "name": "stdout",
     "output_type": "stream",
     "text": [
      "shape: (10, 4)\n",
      "┌────────────────────────────────────────────────────┬──────────────┬──────────────┬──────────────┐\n",
      "│ cohort_name                                        ┆ avg_3m_spend ┆ avg_3y_spend ┆ pct_increase │\n",
      "│ ---                                                ┆          --- ┆          --- ┆          --- │\n",
      "│ str                                                ┆          f64 ┆          f64 ┆          f64 │\n",
      "╞════════════════════════════════════════════════════╪══════════════╪══════════════╪══════════════╡\n",
      "│ Procedure (Musculoskeletal)                        ┆     2,820.55 ┆       916.43 ┆       207.78 │\n",
      "│ Procedure (Musculoskeletal)                        ┆              ┆              ┆              │\n",
      "│ Treatment (Spinal Manipulation)                    ┆     2,656.77 ┆     2,614.85 ┆         1.60 │\n",
      "│ E&M (Behavioral Health Services)                   ┆    11,930.44 ┆    11,826.16 ┆         0.88 │\n",
      "│ Other (Vision, Hearing, and Speech Services)       ┆     4,932.87 ┆     4,904.90 ┆         0.57 │\n",
      "│ Treatment (Physical, Occupational, and Speech T... ┆     5,159.81 ┆     5,857.13 ┆       -11.91 │\n",
      "│ Procedure (Digestive/Gastrointestinal)             ┆     3,171.02 ┆     3,679.91 ┆       -13.83 │\n",
      "│ Procedure (Other Organ Systems)                    ┆     4,915.80 ┆     6,029.97 ┆       -18.48 │\n",
      "│ E&M (Office/Outpatient Services)                   ┆    35,048.29 ┆    43,072.77 ┆       -18.63 │\n",
      "│ E&M (Ophthalmological Services)                    ┆     4,764.28 ┆     5,862.46 ┆       -18.73 │\n",
      "│ Test (Molecular Testing)                           ┆     2,249.20 ┆     2,800.09 ┆       -19.67 │\n",
      "└────────────────────────────────────────────────────┴──────────────┴──────────────┴──────────────┘\n"
     ]
    }
   ],
   "source": [
    "print(surge_in_spending_procedures.sort(\"pct_increase\",descending=True).head(10))"
   ]
  },
  {
   "cell_type": "code",
   "execution_count": 29,
   "id": "f244f9a3",
   "metadata": {},
   "outputs": [],
   "source": [
    "#surge_in_spending_procedures = compute_outlier_cohorts(\n",
    " #   claims_df=get_cohort_procedures(eg_nid=eg_nid),\n",
    "  #  reference_date=reference_date,\n",
    "   # number_of_rows=15\n",
    "#).collect()\n",
    "\n",
    "#disease_claims_df = get_cohort_diseases_icd_level_2(eg_nid=eg_nid)\n",
    "\n",
    "\n",
    "#if disease_claims_df is not None and disease_claims_df.collect().height > 0:\n",
    " #   outlier_lazy = compute_outlier_cohorts(\n",
    "  #      claims_df=disease_claims_df,\n",
    "   #     reference_date=reference_date,\n",
    "    #    number_of_rows=20\n",
    "    #)\n",
    "    #if outlier_lazy is not None:\n",
    "     #   surge_in_spending_procedures = outlier_lazy.collect()\n",
    "    #else:\n",
    "     #   print(\" compute_outlier_cohorts returned None. Not enough history for outlier detection.\")\n",
    "      #  surge_in_spending_procedures = pl.DataFrame()\n",
    "#else:\n",
    " #   print(\" No historical disease claims available.\")\n",
    "  #  surge_in_spending_procedures = pl.DataFrame()\n",
    "disease_claims_df = get_cohort_diseases_icd_level_2(eg_nid=eg_nid)\n",
    "\n",
    "\n",
    "if disease_claims_df is not None and disease_claims_df.collect().height > 0:\n",
    "    outlier_lazy = compute_outlier_cohorts(\n",
    "        claims_df=disease_claims_df,\n",
    "        reference_date=reference_date,\n",
    "        number_of_rows=20\n",
    "    )\n",
    "    if outlier_lazy is not None:\n",
    "        surge_in_spending_procedures = outlier_lazy.collect()\n",
    "    else:\n",
    "        #print(\" compute_outlier_cohorts returned None. Not enough history for outlier detection.\")\n",
    "        surge_in_spending_procedures = pl.DataFrame()\n",
    "else:\n",
    "    print(\" No historical disease claims available.\")\n",
    "    surge_in_spending_procedures = pl.DataFrame()\n",
    "\n",
    "\n"
   ]
  },
  {
   "cell_type": "markdown",
   "id": "59d9b8fe",
   "metadata": {},
   "source": [
    "##### Top 10"
   ]
  },
  {
   "cell_type": "code",
   "execution_count": 30,
   "id": "9eb37523",
   "metadata": {},
   "outputs": [
    {
     "name": "stdout",
     "output_type": "stream",
     "text": [
      "shape: (10, 4)\n",
      "┌────────────────────────────────────────────────────────────────────────────────────────────────────────────────────────────────┬──────────────┬──────────────┬──────────────┐\n",
      "│ cohort_name                                                                                                                    ┆ avg_3m_spend ┆ avg_3y_spend ┆ pct_increase │\n",
      "│ ---                                                                                                                            ┆          --- ┆          --- ┆          --- │\n",
      "│ str                                                                                                                            ┆          f64 ┆          f64 ┆          f64 │\n",
      "╞════════════════════════════════════════════════════════════════════════════════════════════════════════════════════════════════╪══════════════╪══════════════╪══════════════╡\n",
      "│  Diseases of veins, lymphatic vessels and lymph nodes, not elsewhere classified                                                ┆    22,513.28 ┆     2,820.41 ┆       698.23 │\n",
      "│  Other osteopathies                                                                                                            ┆    18,256.50 ┆     2,722.98 ┆       570.46 │\n",
      "│  Persons with potential health hazards related to family and personal history and certain conditions influencing health status ┆    22,744.26 ┆     4,878.31 ┆       366.23 │\n",
      "│  Diseases of esophagus, stomach and duodenum                                                                                   ┆     9,098.29 ┆     3,882.47 ┆       134.34 │\n",
      "│  Urolithiasis                                                                                                                  ┆     4,807.06 ┆     2,859.92 ┆        68.08 │\n",
      "│  Benign neoplasms, except benign neuroendocrine tumors                                                                         ┆     7,205.66 ┆     4,479.95 ┆        60.84 │\n",
      "│  Malignant neoplasms of digestive organs                                                                                       ┆    11,698.06 ┆     9,793.53 ┆        19.45 │\n",
      "│  Biomechanical lesions, not elsewhere classified                                                                               ┆     4,295.59 ┆     3,781.26 ┆        13.60 │\n",
      "│  Other forms of heart disease                                                                                                  ┆    14,967.05 ┆    13,226.85 ┆        13.16 │\n",
      "│  Mood [affective] disorders                                                                                                    ┆     9,014.73 ┆     8,288.45 ┆         8.76 │\n",
      "└────────────────────────────────────────────────────────────────────────────────────────────────────────────────────────────────┴──────────────┴──────────────┴──────────────┘\n"
     ]
    }
   ],
   "source": [
    "#print(surge_in_spending_procedures.sort(\"pct_increase\",descending=True).filter(pl.col(\"cohort_name\") != \"*\").head(10))\n",
    "#print(surge_in_spending_procedures)\n",
    "#print(cleaned_df.sort(\"pct_increase\", descending=True).head(10))\n",
    "if (\n",
    "    surge_in_spending_procedures is not None and\n",
    "    surge_in_spending_procedures.shape[0] > 0 and\n",
    "    \"pct_increase\" in surge_in_spending_procedures.columns\n",
    "):\n",
    "    print(\n",
    "        surge_in_spending_procedures\n",
    "        .sort(\"pct_increase\", descending=True)\n",
    "        .head(10)\n",
    "    )\n",
    "else:\n",
    "    print(\" Surge in spending procedures data is not available, due to the lack of sufficient amount of historical data.\")\n",
    "\n"
   ]
  },
  {
   "cell_type": "markdown",
   "id": "195c1e70",
   "metadata": {},
   "source": [
    "---"
   ]
  },
  {
   "cell_type": "markdown",
   "id": "39c6a45d",
   "metadata": {},
   "source": [
    "# Surge in Spending Cohorts - Drug Classes\n",
    "\n"
   ]
  },
  {
   "cell_type": "code",
   "execution_count": 31,
   "id": "9138afd9",
   "metadata": {},
   "outputs": [],
   "source": [
    "#surge_in_spending_drugs = compute_outlier_cohorts(\n",
    " #   claims_df=get_cohort_drugs_usage(eg_nid=eg_nid),\n",
    "  #  reference_date=reference_date,\n",
    "   # number_of_rows=10\n",
    "#).collect()\n",
    "Drugs_claims_df = get_cohort_drugs_usage(eg_nid=eg_nid)\n",
    "\n",
    "\n",
    "if disease_claims_df is not None and disease_claims_df.collect().height > 0:\n",
    "    outlier_lazy = compute_outlier_cohorts(\n",
    "        claims_df=disease_claims_df,\n",
    "        reference_date=reference_date,\n",
    "        number_of_rows=20\n",
    "    )\n",
    "    if outlier_lazy is not None:\n",
    "        surge_in_spending_drugs = outlier_lazy.collect()\n",
    "    else:\n",
    "        #print(\" compute_outlier_cohorts returned None. Not enough history for outlier detection.\")\n",
    "        surge_in_spending_drugs = pl.DataFrame()\n",
    "else:\n",
    "    print(\" No historical disease claims available.\")\n",
    "    surge_in_spending_drugs = pl.DataFrame()"
   ]
  },
  {
   "cell_type": "markdown",
   "id": "8357ae59",
   "metadata": {},
   "source": [
    "##### Top 10"
   ]
  },
  {
   "cell_type": "code",
   "execution_count": 32,
   "id": "42c17119",
   "metadata": {},
   "outputs": [
    {
     "name": "stdout",
     "output_type": "stream",
     "text": [
      "shape: (10, 4)\n",
      "┌────────────────────────────────────────────────────────────────────────────────────────────────────────────────────────────────┬──────────────┬──────────────┬──────────────┐\n",
      "│ cohort_name                                                                                                                    ┆ avg_3m_spend ┆ avg_3y_spend ┆ pct_increase │\n",
      "│ ---                                                                                                                            ┆          --- ┆          --- ┆          --- │\n",
      "│ str                                                                                                                            ┆          f64 ┆          f64 ┆          f64 │\n",
      "╞════════════════════════════════════════════════════════════════════════════════════════════════════════════════════════════════╪══════════════╪══════════════╪══════════════╡\n",
      "│  Diseases of veins, lymphatic vessels and lymph nodes, not elsewhere classified                                                ┆    22,513.28 ┆     2,820.41 ┆       698.23 │\n",
      "│  Other osteopathies                                                                                                            ┆    18,256.50 ┆     2,722.98 ┆       570.46 │\n",
      "│  Persons with potential health hazards related to family and personal history and certain conditions influencing health status ┆    22,744.26 ┆     4,878.31 ┆       366.23 │\n",
      "│  Diseases of esophagus, stomach and duodenum                                                                                   ┆     9,098.29 ┆     3,882.47 ┆       134.34 │\n",
      "│  Urolithiasis                                                                                                                  ┆     4,807.06 ┆     2,859.92 ┆        68.08 │\n",
      "│  Benign neoplasms, except benign neuroendocrine tumors                                                                         ┆     7,205.66 ┆     4,479.95 ┆        60.84 │\n",
      "│  Malignant neoplasms of digestive organs                                                                                       ┆    11,698.06 ┆     9,793.53 ┆        19.45 │\n",
      "│  Biomechanical lesions, not elsewhere classified                                                                               ┆     4,295.59 ┆     3,781.26 ┆        13.60 │\n",
      "│  Other forms of heart disease                                                                                                  ┆    14,967.05 ┆    13,226.85 ┆        13.16 │\n",
      "│  Mood [affective] disorders                                                                                                    ┆     9,014.73 ┆     8,288.45 ┆         8.76 │\n",
      "└────────────────────────────────────────────────────────────────────────────────────────────────────────────────────────────────┴──────────────┴──────────────┴──────────────┘\n"
     ]
    }
   ],
   "source": [
    "#print(surge_in_spending_drugs.sort(\"pct_increase\",descending=True).head(10))\n",
    "if (\n",
    "    surge_in_spending_drugs is not None and\n",
    "    surge_in_spending_drugs.shape[0] > 0 and\n",
    "    \"pct_increase\" in surge_in_spending_drugs.columns\n",
    "):\n",
    "    print(\n",
    "        surge_in_spending_drugs\n",
    "        .sort(\"pct_increase\", descending=True)\n",
    "        .head(10)\n",
    "    )\n",
    "else:\n",
    "    print(\" Surge in spending drugs data is not available, due to the lack of sufficient amount of historical data.\")\n",
    "\n",
    "\n"
   ]
  },
  {
   "cell_type": "markdown",
   "id": "8648fef2",
   "metadata": {},
   "source": [
    "---"
   ]
  },
  {
   "cell_type": "markdown",
   "id": "b8bec5a9",
   "metadata": {},
   "source": [
    "# Surge in Spending Cohorts - Providers (Medical Speciality)\n",
    "\n"
   ]
  },
  {
   "cell_type": "code",
   "execution_count": 33,
   "id": "5338984e",
   "metadata": {},
   "outputs": [],
   "source": [
    "#surge_in_spending_providers_medical_speciality = compute_outlier_cohorts(\n",
    " #   claims_df=get_cohort_medical_provider_speciality(eg_nid=eg_nid),\n",
    "  #  reference_date=reference_date,\n",
    "   # number_of_rows=20\n",
    "#).collect()\n",
    "Providers_claims_df = get_cohort_medical_provider_speciality(eg_nid=eg_nid)\n",
    "\n",
    "\n",
    "if disease_claims_df is not None and disease_claims_df.collect().height > 0:\n",
    "    outlier_lazy = compute_outlier_cohorts(\n",
    "        claims_df=disease_claims_df,\n",
    "        reference_date=reference_date,\n",
    "        number_of_rows=20\n",
    "    )\n",
    "    if outlier_lazy is not None:\n",
    "        surge_in_spending_providers_medical_speciality = outlier_lazy.collect()\n",
    "    else:\n",
    "        #print(\" compute_outlier_cohorts returned None. Not enough history for outlier detection.\")\n",
    "        surge_in_spending_providers_medical_speciality = pl.DataFrame()\n",
    "else:\n",
    "    print(\" No historical disease claims available.\")\n",
    "    surge_in_spending_providers_medical_speciality = pl.DataFrame()"
   ]
  },
  {
   "cell_type": "markdown",
   "id": "ce3866fc",
   "metadata": {},
   "source": [
    "##### Top 10"
   ]
  },
  {
   "cell_type": "code",
   "execution_count": 34,
   "id": "c7eda8ac",
   "metadata": {},
   "outputs": [
    {
     "name": "stdout",
     "output_type": "stream",
     "text": [
      "shape: (10, 4)\n",
      "┌────────────────────────────────────────────────────────────────────────────────────────────────────────────────────────────────┬──────────────┬──────────────┬──────────────┐\n",
      "│ cohort_name                                                                                                                    ┆ avg_3m_spend ┆ avg_3y_spend ┆ pct_increase │\n",
      "│ ---                                                                                                                            ┆          --- ┆          --- ┆          --- │\n",
      "│ str                                                                                                                            ┆          f64 ┆          f64 ┆          f64 │\n",
      "╞════════════════════════════════════════════════════════════════════════════════════════════════════════════════════════════════╪══════════════╪══════════════╪══════════════╡\n",
      "│  Diseases of veins, lymphatic vessels and lymph nodes, not elsewhere classified                                                ┆    22,513.28 ┆     2,820.41 ┆       698.23 │\n",
      "│  Other osteopathies                                                                                                            ┆    18,256.50 ┆     2,722.98 ┆       570.46 │\n",
      "│  Persons with potential health hazards related to family and personal history and certain conditions influencing health status ┆    22,744.26 ┆     4,878.31 ┆       366.23 │\n",
      "│  Diseases of esophagus, stomach and duodenum                                                                                   ┆     9,098.29 ┆     3,882.47 ┆       134.34 │\n",
      "│  Urolithiasis                                                                                                                  ┆     4,807.06 ┆     2,859.92 ┆        68.08 │\n",
      "│  Benign neoplasms, except benign neuroendocrine tumors                                                                         ┆     7,205.66 ┆     4,479.95 ┆        60.84 │\n",
      "│  Malignant neoplasms of digestive organs                                                                                       ┆    11,698.06 ┆     9,793.53 ┆        19.45 │\n",
      "│  Biomechanical lesions, not elsewhere classified                                                                               ┆     4,295.59 ┆     3,781.26 ┆        13.60 │\n",
      "│  Other forms of heart disease                                                                                                  ┆    14,967.05 ┆    13,226.85 ┆        13.16 │\n",
      "│  Mood [affective] disorders                                                                                                    ┆     9,014.73 ┆     8,288.45 ┆         8.76 │\n",
      "└────────────────────────────────────────────────────────────────────────────────────────────────────────────────────────────────┴──────────────┴──────────────┴──────────────┘\n"
     ]
    }
   ],
   "source": [
    "#print(surge_in_spending_providers_medical_speciality.sort(\"pct_increase\",descending=True).filter(pl.col(\"cohort_name\") != \"None\").head(10))\n",
    "if (\n",
    "    surge_in_spending_providers_medical_speciality is not None and\n",
    "    surge_in_spending_providers_medical_speciality.shape[0] > 0 and\n",
    "    \"pct_increase\" in surge_in_spending_providers_medical_speciality.columns\n",
    "):\n",
    "    print(\n",
    "        surge_in_spending_providers_medical_speciality\n",
    "        .sort(\"pct_increase\", descending=True)\n",
    "        .head(10)\n",
    "    )\n",
    "else:\n",
    "    print(\" Surge in spending providers (medical speciality) data is not available, due to the lack of sufficient amount of historical data.\")\n",
    "\n"
   ]
  },
  {
   "cell_type": "markdown",
   "id": "9f6a6a20",
   "metadata": {},
   "source": [
    "---"
   ]
  },
  {
   "cell_type": "code",
   "execution_count": 35,
   "id": "11a63cc4",
   "metadata": {},
   "outputs": [],
   "source": [
    "# df1 = pl.DataFrame({\"pct_increase\": emerging_spending_diseases_icd_level_2})\n",
    "# df2 = pl.DataFrame({\"pct_increase\": emerging_spending_procedures})\n",
    "# df3 = pl.DataFrame({\"pct_increase\": emerging_spending_drugs})\n",
    "# df4 = pl.DataFrame({\"pct_increase\": emerging_spending_providers_medical_speciality})\n",
    "\n",
    "# results = pl.concat([df1, df2, df3, df4], how=\"vertical_relaxed\")\n",
    "\n",
    "# results_flat = results.select([\n",
    "#     pl.col(\"pct_increase\").struct.field(\"cohort_name\").alias(\"cohort_name\"),\n",
    "#     pl.col(\"pct_increase\").struct.field(\"pct_increase\").cast(pl.Float64).alias(\"pct_increase\")\n",
    "# ])\n",
    "\n",
    "# filtered_sorted = (\n",
    "#     results_flat\n",
    "#     .filter(\n",
    "#         (pl.col(\"cohort_name\") != \"*\") & (pl.col(\"cohort_name\") != \"None\")\n",
    "#     )\n",
    "#     .sort(\"pct_increase\", descending=True)\n",
    "#     .head(3)   \n",
    "# )"
   ]
  },
  {
   "cell_type": "markdown",
   "id": "89631ee7",
   "metadata": {},
   "source": [
    "# TOP 3 EMERGING COHORTS - TOP 3 BY % INCREASE"
   ]
  },
  {
   "cell_type": "code",
   "execution_count": 36,
   "id": "86e9f3ed",
   "metadata": {},
   "outputs": [],
   "source": [
    "#print(filtered_sorted)"
   ]
  },
  {
   "cell_type": "markdown",
   "id": "b97ce9db",
   "metadata": {},
   "source": [
    "# Emerging Spending Cohorts - Diseases (ICD Level 2)\n"
   ]
  },
  {
   "cell_type": "code",
   "execution_count": 37,
   "id": "eb39b44f",
   "metadata": {},
   "outputs": [],
   "source": [
    "#emerging_spending_diseases_icd_level_2 = compute_emerging_cohorts(\n",
    " #   claims_df=get_cohort_diseases_icd_level_2(eg_nid=eg_nid), reference_date=reference_date,\n",
    "  #  number_of_rows=10\n",
    "#).collect()\n",
    "disease_claims_df = get_cohort_diseases_icd_level_2(eg_nid=eg_nid)\n",
    "\n",
    "if disease_claims_df is not None and disease_claims_df.collect().height > 0:\n",
    "    emerging_lazy = compute_emerging_cohorts(\n",
    "        claims_df=disease_claims_df,\n",
    "        reference_date=reference_date,\n",
    "        number_of_rows=10\n",
    "    )\n",
    "    if emerging_lazy is not None:\n",
    "        emerging_spending_diseases_icd_level_2 = emerging_lazy.collect()\n",
    "    else:\n",
    "       # print(\" compute_emerging_cohorts returned None. Not enough history for emerging cohort detection.\")\n",
    "        emerging_spending_diseases_icd_level_2 = pl.DataFrame()\n",
    "else:\n",
    "    print(\" No historical disease claims available for emerging cohort detection.\")\n",
    "    emerging_spending_diseases_icd_level_2 = pl.DataFrame()\n"
   ]
  },
  {
   "cell_type": "markdown",
   "id": "d5d48ab6",
   "metadata": {},
   "source": [
    "##### Top 10"
   ]
  },
  {
   "cell_type": "code",
   "execution_count": 38,
   "id": "f90b74dd",
   "metadata": {},
   "outputs": [
    {
     "name": "stdout",
     "output_type": "stream",
     "text": [
      "shape: (10, 4)\n",
      "┌────────────────────────────────────────────────────────────────────────────────────────────┬──────────────┬──────────────┬──────────────┐\n",
      "│ cohort_name                                                                                ┆ avg_1y_spend ┆ avg_3y_spend ┆ pct_increase │\n",
      "│ ---                                                                                        ┆          --- ┆          --- ┆          --- │\n",
      "│ str                                                                                        ┆          f64 ┆          f64 ┆          f64 │\n",
      "╞════════════════════════════════════════════════════════════════════════════════════════════╪══════════════╪══════════════╪══════════════╡\n",
      "│  Edema, proteinuria and hypertensive disorders in pregnancy, childbirth and the puerperium ┆    10,722.29 ┆     3,664.82 ┆       192.57 │\n",
      "│  Malignant neoplasms of lymphoid, hematopoietic and related tissue                         ┆    39,685.13 ┆    14,522.33 ┆       173.27 │\n",
      "│  Ischemic heart diseases                                                                   ┆    17,769.59 ┆     8,526.29 ┆       108.41 │\n",
      "│  Encounters for other specific health care                                                 ┆    22,591.80 ┆    13,431.24 ┆        68.20 │\n",
      "│  Malignant neoplasms of digestive organs                                                   ┆    14,087.07 ┆     9,793.53 ┆        43.84 │\n",
      "│  Mood [affective] disorders                                                                ┆    11,425.72 ┆     8,288.45 ┆        37.85 │\n",
      "│  Complications of surgical and medical care, not elsewhere classified                      ┆     9,735.01 ┆     7,234.88 ┆        34.56 │\n",
      "│  Persons encountering health services in circumstances related to reproduction             ┆    10,972.11 ┆     8,471.47 ┆        29.52 │\n",
      "│  Anxiety, dissociative, stress-related, somatoform and other nonpsychotic mental disorders ┆     9,054.38 ┆     8,798.55 ┆         2.91 │\n",
      "│  Osteoarthritis                                                                            ┆    11,147.95 ┆    14,929.21 ┆       -25.33 │\n",
      "└────────────────────────────────────────────────────────────────────────────────────────────┴──────────────┴──────────────┴──────────────┘\n"
     ]
    }
   ],
   "source": [
    "#print(emerging_spending_diseases_icd_level_2.sort(\"pct_increase\",descending=True).head(10))\n",
    "\n",
    "if emerging_spending_diseases_icd_level_2 is not None and emerging_spending_diseases_icd_level_2.height > 0:\n",
    "    print(emerging_spending_diseases_icd_level_2.sort(\"pct_increase\", descending=True).head(10))\n",
    "else:\n",
    "    print(\" Emergent spending diseases icd level 2 data is not available, due to the lack of sufficient amount of historical data.\")\n"
   ]
  },
  {
   "cell_type": "markdown",
   "id": "cb1d81ca",
   "metadata": {},
   "source": [
    "---"
   ]
  },
  {
   "cell_type": "markdown",
   "id": "177e06f2",
   "metadata": {},
   "source": [
    "# Emerging Spending Cohorts - Procedures (Type of Service)\n",
    "\n"
   ]
  },
  {
   "cell_type": "code",
   "execution_count": 39,
   "id": "34deab1a",
   "metadata": {},
   "outputs": [],
   "source": [
    "#emerging_spending_procedures = compute_emerging_cohorts(\n",
    " #   claims_df=get_cohort_procedures(eg_nid=eg_nid),\n",
    "  #  reference_date=reference_date,\n",
    "   # number_of_rows=11\n",
    "#).collect()\n",
    "disease_claims_df = get_cohort_procedures(eg_nid=eg_nid)\n",
    "\n",
    "if disease_claims_df is not None and disease_claims_df.collect().height > 0:\n",
    "    emerging_lazy = compute_emerging_cohorts(\n",
    "        claims_df=disease_claims_df,\n",
    "        reference_date=reference_date,\n",
    "        number_of_rows=10\n",
    "    )\n",
    "    if emerging_lazy is not None:\n",
    "        emerging_spending_procedures = emerging_lazy.collect()\n",
    "    else:\n",
    "        #print(\" compute_emerging_cohorts returned None. Not enough history for emerging cohort detection.\")\n",
    "        emerging_spending_procedures = pl.DataFrame()\n",
    "else:\n",
    "    print(\" No historical disease claims available for emerging cohort detection.\")\n",
    "    emerging_spending_procedures = pl.DataFrame()"
   ]
  },
  {
   "cell_type": "markdown",
   "id": "ffb437e1",
   "metadata": {},
   "source": [
    "##### Top 10"
   ]
  },
  {
   "cell_type": "code",
   "execution_count": 40,
   "id": "a8507da0",
   "metadata": {},
   "outputs": [
    {
     "name": "stdout",
     "output_type": "stream",
     "text": [
      "shape: (10, 4)\n",
      "┌────────────────────────────────────────────────────┬──────────────┬──────────────┬──────────────┐\n",
      "│ cohort_name                                        ┆ avg_1y_spend ┆ avg_3y_spend ┆ pct_increase │\n",
      "│ ---                                                ┆          --- ┆          --- ┆          --- │\n",
      "│ str                                                ┆          f64 ┆          f64 ┆          f64 │\n",
      "╞════════════════════════════════════════════════════╪══════════════╪══════════════╪══════════════╡\n",
      "│ Treatment (Chemotherapy)                           ┆    15,565.31 ┆     5,737.62 ┆       171.29 │\n",
      "│ *                                                  ┆   283,509.14 ┆   251,926.98 ┆        12.54 │\n",
      "│ Treatment (Physical, Occupational, and Speech T... ┆     6,128.89 ┆     5,857.13 ┆         4.64 │\n",
      "│ E&M (Behavioral Health Services)                   ┆    12,369.28 ┆    11,826.16 ┆         4.59 │\n",
      "│ Procedure (Other Organ Systems)                    ┆     6,264.91 ┆     6,029.97 ┆         3.90 │\n",
      "│ E&M (Office/Outpatient Services)                   ┆    43,558.85 ┆    43,072.77 ┆         1.13 │\n",
      "│ Anesthesia (Anesthesia)                            ┆     8,304.32 ┆     8,800.20 ┆        -5.63 │\n",
      "│ Other (Ambulance)                                  ┆     5,973.51 ┆     7,923.84 ┆       -24.61 │\n",
      "│ Treatment (Injections and Infusions (nononcolog... ┆     7,480.96 ┆    10,001.13 ┆       -25.20 │\n",
      "│ Procedure (Musculoskeletal)                        ┆     5,954.57 ┆     9,992.16 ┆       -40.41 │\n",
      "└────────────────────────────────────────────────────┴──────────────┴──────────────┴──────────────┘\n"
     ]
    }
   ],
   "source": [
    "# print(emerging_spending_procedures.sort(\"pct_increase\",descending=True).filter(pl.col(\"cohort_name\")!= \"*\").head(10))\n",
    "\n",
    "\n",
    "if emerging_spending_procedures is not None and emerging_spending_procedures.height > 0:\n",
    "    print(emerging_spending_procedures.sort(\"pct_increase\", descending=True).head(10))\n",
    "else:\n",
    "    print(\" Emergent spending procedures data is not available, due to the lack of sufficient amount of historical data.\")\n",
    "\n"
   ]
  },
  {
   "cell_type": "markdown",
   "id": "aaaf7270",
   "metadata": {},
   "source": [
    "---"
   ]
  },
  {
   "cell_type": "markdown",
   "id": "b0c91b8c",
   "metadata": {},
   "source": [
    "# Emerging Spending Cohorts - Drug Classes\n",
    "\n"
   ]
  },
  {
   "cell_type": "code",
   "execution_count": 41,
   "id": "911168a0",
   "metadata": {},
   "outputs": [],
   "source": [
    "#emerging_spending_drugs = compute_emerging_cohorts(\n",
    " #   claims_df=get_cohort_drugs_usage(eg_nid=eg_nid),\n",
    "  #  reference_date=reference_date,\n",
    "   # number_of_rows=10\n",
    "#).collect()\n",
    "\n",
    "drugs_claims_df = get_cohort_drugs_usage(eg_nid=eg_nid)\n",
    "\n",
    "if drugs_claims_df is not None and drugs_claims_df.collect().height > 0:\n",
    "    emerging_lazy = compute_emerging_cohorts(\n",
    "        claims_df=disease_claims_df,\n",
    "        reference_date=reference_date,\n",
    "        number_of_rows=10\n",
    "    )\n",
    "    if emerging_lazy is not None:\n",
    "        emerging_spending_drugs = emerging_lazy.collect()\n",
    "    else:\n",
    "        #print(\" compute_emerging_cohorts returned None. Not enough history for emerging cohort detection.\")\n",
    "        emerging_spending_drugs = pl.DataFrame()\n",
    "else:\n",
    "    print(\" No historical disease claims available for emerging cohort detection.\")\n",
    "    emerging_spending_drugs = pl.DataFrame()"
   ]
  },
  {
   "cell_type": "markdown",
   "id": "1a673a0e",
   "metadata": {},
   "source": [
    "##### Top 10"
   ]
  },
  {
   "cell_type": "code",
   "execution_count": 42,
   "id": "1de254b8",
   "metadata": {},
   "outputs": [
    {
     "name": "stdout",
     "output_type": "stream",
     "text": [
      "shape: (10, 4)\n",
      "┌────────────────────────────────────────────────────┬──────────────┬──────────────┬──────────────┐\n",
      "│ cohort_name                                        ┆ avg_1y_spend ┆ avg_3y_spend ┆ pct_increase │\n",
      "│ ---                                                ┆          --- ┆          --- ┆          --- │\n",
      "│ str                                                ┆          f64 ┆          f64 ┆          f64 │\n",
      "╞════════════════════════════════════════════════════╪══════════════╪══════════════╪══════════════╡\n",
      "│ Treatment (Chemotherapy)                           ┆    15,565.31 ┆     5,737.62 ┆       171.29 │\n",
      "│ *                                                  ┆   283,509.14 ┆   251,926.98 ┆        12.54 │\n",
      "│ Treatment (Physical, Occupational, and Speech T... ┆     6,128.89 ┆     5,857.13 ┆         4.64 │\n",
      "│ E&M (Behavioral Health Services)                   ┆    12,369.28 ┆    11,826.16 ┆         4.59 │\n",
      "│ Procedure (Other Organ Systems)                    ┆     6,264.91 ┆     6,029.97 ┆         3.90 │\n",
      "│ E&M (Office/Outpatient Services)                   ┆    43,558.85 ┆    43,072.77 ┆         1.13 │\n",
      "│ Anesthesia (Anesthesia)                            ┆     8,304.32 ┆     8,800.20 ┆        -5.63 │\n",
      "│ Other (Ambulance)                                  ┆     5,973.51 ┆     7,923.84 ┆       -24.61 │\n",
      "│ Treatment (Injections and Infusions (nononcolog... ┆     7,480.96 ┆    10,001.13 ┆       -25.20 │\n",
      "│ Procedure (Musculoskeletal)                        ┆     5,954.57 ┆     9,992.16 ┆       -40.41 │\n",
      "└────────────────────────────────────────────────────┴──────────────┴──────────────┴──────────────┘\n"
     ]
    }
   ],
   "source": [
    "#print(emerging_spending_drugs.sort(\"pct_increase\",descending=True).head(10))\n",
    "\n",
    "if emerging_spending_drugs is not None and emerging_spending_drugs.height > 0:\n",
    "    print(emerging_spending_drugs.sort(\"pct_increase\", descending=True).head(10))\n",
    "else:\n",
    "    print(\"Emergent spending drugs data is not available, due to the lack of sufficient amount of historical data.\")"
   ]
  },
  {
   "cell_type": "markdown",
   "id": "f468c9eb",
   "metadata": {},
   "source": [
    "---"
   ]
  },
  {
   "cell_type": "markdown",
   "id": "021f3724",
   "metadata": {},
   "source": [
    "# Emerging Spending Cohorts - Providers (Medical Speciality)\n",
    "\n"
   ]
  },
  {
   "cell_type": "code",
   "execution_count": 43,
   "id": "fe615428",
   "metadata": {},
   "outputs": [],
   "source": [
    "#emerging_spending_providers_medical_speciality = compute_emerging_cohorts(\n",
    " #   claims_df=get_cohort_medical_provider_speciality(eg_nid=eg_nid),\n",
    "  #  reference_date=reference_date,\n",
    "   # number_of_rows=11\n",
    "#).collect()\n",
    "\n",
    "Providers_claims_df = get_cohort_medical_provider_speciality(eg_nid=eg_nid)\n",
    "\n",
    "if Providers_claims_df is not None and Providers_claims_df.collect().height > 0:\n",
    "    emerging_lazy = compute_emerging_cohorts(\n",
    "        claims_df=Providers_claims_df,\n",
    "        reference_date=reference_date,\n",
    "        number_of_rows=10\n",
    "    )\n",
    "    if emerging_lazy is not None:\n",
    "        emerging_spending_providers_medical_speciality = emerging_lazy.collect()\n",
    "    else:\n",
    "       # print(\" compute_emerging_cohorts returned None. Not enough history for emerging cohort detection.\")\n",
    "        emerging_spending_providers_medical_speciality = pl.DataFrame()\n",
    "else:\n",
    "    print(\" No historical disease claims available for emerging cohort detection.\")\n",
    "    emerging_spending_providers_medical_speciality = pl.DataFrame()"
   ]
  },
  {
   "cell_type": "markdown",
   "id": "877d8366",
   "metadata": {},
   "source": [
    "##### Top 10"
   ]
  },
  {
   "cell_type": "code",
   "execution_count": 44,
   "id": "0681ec61",
   "metadata": {},
   "outputs": [
    {
     "name": "stdout",
     "output_type": "stream",
     "text": [
      "shape: (10, 4)\n",
      "┌─────────────────────────────────────────────┬──────────────┬──────────────┬──────────────┐\n",
      "│ cohort_name                                 ┆ avg_1y_spend ┆ avg_3y_spend ┆ pct_increase │\n",
      "│ ---                                         ┆          --- ┆          --- ┆          --- │\n",
      "│ str                                         ┆          f64 ┆          f64 ┆          f64 │\n",
      "╞═════════════════════════════════════════════╪══════════════╪══════════════╪══════════════╡\n",
      "│ Pharmacy                                    ┆    18,563.87 ┆    11,189.42 ┆        65.91 │\n",
      "│ Physician General Surgery                   ┆     9,569.09 ┆     7,234.33 ┆        32.27 │\n",
      "│ Hospital Rehabilitation Unit                ┆    18,852.60 ┆    14,265.73 ┆        32.15 │\n",
      "│ Hospital Psychiatric Unit                   ┆    37,013.58 ┆    28,212.85 ┆        31.19 │\n",
      "│ None                                        ┆   160,384.83 ┆   135,456.16 ┆        18.40 │\n",
      "│ Critical Access Hospital                    ┆    10,057.78 ┆     9,458.64 ┆         6.33 │\n",
      "│ Ambulance Service Provider                  ┆    17,135.67 ┆    17,279.29 ┆        -0.83 │\n",
      "│ Hospital Short Term  General and Specialty  ┆    76,498.45 ┆    80,293.18 ┆        -4.73 │\n",
      "│ Nurse Practitioner                          ┆     8,831.79 ┆     9,316.55 ┆        -5.20 │\n",
      "│ Physician Assistant                         ┆    12,421.53 ┆    13,937.43 ┆       -10.88 │\n",
      "└─────────────────────────────────────────────┴──────────────┴──────────────┴──────────────┘\n"
     ]
    }
   ],
   "source": [
    "#print(emerging_spending_providers_medical_speciality.sort(\"pct_increase\",descending=True).filter(pl.col(\"cohort_name\") != \"None\").head(10))\n",
    "\n",
    "if emerging_spending_providers_medical_speciality is not None and emerging_spending_providers_medical_speciality.height > 0:\n",
    "    print(emerging_spending_providers_medical_speciality.sort(\"pct_increase\", descending=True).head(10))\n",
    "else:\n",
    "    print(\" Emergent spending data providers (medical speciality) is not available, due to the lack of sufficient amount of historical data.\")"
   ]
  },
  {
   "cell_type": "markdown",
   "id": "a3339295",
   "metadata": {},
   "source": [
    "---"
   ]
  },
  {
   "cell_type": "code",
   "execution_count": 47,
   "id": "3fd8c612",
   "metadata": {},
   "outputs": [
    {
     "name": "stdout",
     "output_type": "stream",
     "text": [
      "shape: (3, 2)\n",
      "┌─────────────────────────────────────────────┬──────────────┐\n",
      "│ cohort_name                                 ┆        spend │\n",
      "│ ---                                         ┆          --- │\n",
      "│ str                                         ┆          f64 │\n",
      "╞═════════════════════════════════════════════╪══════════════╡\n",
      "│ Immunosuppressants                          ┆ 2,312,603.13 │\n",
      "│ Hospital Short Term  General and Specialty  ┆ 1,706,251.37 │\n",
      "│ E&M (Office/Outpatient Services)            ┆ 1,058,813.02 │\n",
      "└─────────────────────────────────────────────┴──────────────┘\n"
     ]
    }
   ],
   "source": [
    "import polars as pl\n",
    "\n",
    "# top_spending_diseases_icd_level_2 = top_spending_diseases_icd_level_2\n",
    "# top_spending_procedures = top_spending_procedures.select([pl.col(\"cohort_name\"),pl.col(\"spend\")])\n",
    "# top_spending_drugs = top_spending_drugs.select([pl.col(\"cohort_name\"),pl.col(\"spend\")])\n",
    "# top_spending_providers = top_spending_providers.select([pl.col(\"cohort_name\"),pl.col(\"spend\")])\n",
    "\n",
    "results = pl.concat([top_spending_diseases_icd_level_2,top_spending_procedures,top_spending_drugs,top_spending_providers], how=\"vertical\")\n",
    "results = results.filter(pl.col(\"cohort_name\") != \"*\").filter(pl.col(\"cohort_name\") != \"None\")\n",
    "\n",
    "top3 = results.sort(\"spend\", descending=True).head(3)\n",
    "print(top3)\n",
    "\n"
   ]
  },
  {
   "cell_type": "markdown",
   "id": "aa340767",
   "metadata": {},
   "source": []
  },
  {
   "cell_type": "markdown",
   "id": "7ee360e6",
   "metadata": {},
   "source": []
  },
  {
   "cell_type": "markdown",
   "id": "96e3330b",
   "metadata": {},
   "source": []
  },
  {
   "cell_type": "markdown",
   "id": "31ca7b72",
   "metadata": {},
   "source": []
  },
  {
   "cell_type": "markdown",
   "id": "6cbab966",
   "metadata": {},
   "source": []
  },
  {
   "cell_type": "markdown",
   "id": "8351f9d3",
   "metadata": {},
   "source": []
  }
 ],
 "metadata": {
  "kernelspec": {
   "display_name": "Python 3",
   "language": "python",
   "name": "python3"
  },
  "language_info": {
   "codemirror_mode": {
    "name": "ipython",
    "version": 3
   },
   "file_extension": ".py",
   "mimetype": "text/x-python",
   "name": "python",
   "nbconvert_exporter": "python",
   "pygments_lexer": "ipython3",
   "version": "3.10.17"
  }
 },
 "nbformat": 4,
 "nbformat_minor": 5
}
