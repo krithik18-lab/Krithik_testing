{
 "cells": [
  {
   "cell_type": "code",
   "execution_count": 190,
   "id": "15710ec1",
   "metadata": {},
   "outputs": [],
   "source": [
    "# Imports\n",
    "\n",
    "import polars as pl\n",
    "\n",
    "from compute_top_spending_cohorts import compute_top_spending_cohorts\n",
    "from compute_emerging_cohorts import compute_emerging_cohorts\n",
    "from compute_outlier_cohorts import compute_outlier_cohorts\n",
    "\n",
    "from cohorts_diseases import get_cohort_diseases_icd_level_1, get_cohort_diseases_icd_level_2, get_cohort_diseases_chronic, get_cohort_diseases_trigger_level_2\n",
    "\n",
    "from cohorts_procedures import get_cohort_procedures\n",
    "\n",
    "from cohorts_facilities import get_cohort_facilities\n",
    "\n",
    "from cohorts_drugs import get_cohort_drugs_usage\n",
    "\n",
    "from cohorts_demographics import get_cohort_demographics_ages, get_cohort_demographics_relationships, get_cohort_demographics_genders\n",
    "\n",
    "from cohorts_providers import get_cohort_individual_medical_provider, get_cohort_medical_provider_speciality, get_cohort_individual_rx_provider\n",
    "\n",
    "from top_n_rows import new_top_n_rows\n",
    "\n",
    "from get_mongodb_connection import get_mongo_collection_from_env\n",
    "\n",
    "from insert_into_mongodb import insert_spending_analysis"
   ]
  },
  {
   "cell_type": "code",
   "execution_count": 191,
   "id": "6bd353ba",
   "metadata": {},
   "outputs": [
    {
     "data": {
      "text/plain": [
       "polars.config.Config"
      ]
     },
     "execution_count": 191,
     "metadata": {},
     "output_type": "execute_result"
    }
   ],
   "source": [
    "# Polars display configurations\n",
    "\n",
    "pl.Config.set_float_precision(2)\n",
    "pl.Config.set_fmt_float(\"full\")\n",
    "pl.Config.set_fmt_str_lengths(200)\n",
    "pl.Config.set_tbl_cell_numeric_alignment(\"RIGHT\")\n",
    "pl.Config.set_tbl_hide_dataframe_shape(False)\n",
    "pl.Config.set_tbl_rows(20)\n",
    "pl.Config.set_tbl_width_chars(8000)\n",
    "pl.Config.set_thousands_separator(\",\")"
   ]
  },
  {
   "cell_type": "code",
   "execution_count": 192,
   "id": "70c66ff6",
   "metadata": {},
   "outputs": [
    {
     "name": "stdout",
     "output_type": "stream",
     "text": [
      "Successfully connected to MongoDB: admin/cohort_analysis_insights\n",
      "Collection(Database(MongoClient(host=['10.1.0.4:27017'], document_class=dict, tz_aware=False, connect=True, authsource='admin', readpreference='primary', tls=False), 'admin'), 'cohort_analysis_insights') MongoClient(host=['10.1.0.4:27017'], document_class=dict, tz_aware=False, connect=True, authsource='admin', readpreference='primary', tls=False)\n"
     ]
    }
   ],
   "source": [
    "# Constants\n",
    "\n",
    "eg_nid = \"PS\" \n",
    "reference_date = \"2025-05-05\"\n",
    "\n",
    "mongodb_collection_obj, mongodb_client = get_mongo_collection_from_env()\n",
    "print(mongodb_collection_obj, mongodb_client)"
   ]
  },
  {
   "cell_type": "markdown",
   "id": "6bbbf588",
   "metadata": {},
   "source": [
    "# Top Spending Cohorts - Diseases (ICD Level 2)"
   ]
  },
  {
   "cell_type": "code",
   "execution_count": 193,
   "id": "0895b510",
   "metadata": {},
   "outputs": [],
   "source": [
    "top_spending_diseases_icd_level_2 = compute_top_spending_cohorts(\n",
    "    claims_df=get_cohort_diseases_icd_level_2(eg_nid=eg_nid), reference_date=reference_date,\n",
    "    number_of_rows=5\n",
    ").collect()"
   ]
  },
  {
   "cell_type": "markdown",
   "id": "0220379b",
   "metadata": {},
   "source": [
    "##### Top 5"
   ]
  },
  {
   "cell_type": "code",
   "execution_count": 194,
   "id": "777f45ea",
   "metadata": {},
   "outputs": [
    {
     "name": "stdout",
     "output_type": "stream",
     "text": [
      "shape: (5, 2)\n",
      "┌────────────────────────────────────────────────────────────────────┬────────────┐\n",
      "│ cohort_name                                                        ┆      spend │\n",
      "│ ---                                                                ┆        --- │\n",
      "│ str                                                                ┆        f64 │\n",
      "╞════════════════════════════════════════════════════════════════════╪════════════╡\n",
      "│  Malignant neoplasms of lymphoid, hematopoietic and related tissue ┆ 506,320.65 │\n",
      "│  Osteoarthritis                                                    ┆ 330,809.30 │\n",
      "│  Encounters for other specific health care                         ┆ 311,173.55 │\n",
      "│  Hemorrhagic and hematological disorders of newborn                ┆ 297,557.61 │\n",
      "│  Acute kidney failure and chronic kidney disease                   ┆ 291,109.99 │\n",
      "└────────────────────────────────────────────────────────────────────┴────────────┘\n"
     ]
    }
   ],
   "source": [
    "\n",
    "print(top_spending_diseases_icd_level_2)"
   ]
  },
  {
   "cell_type": "markdown",
   "id": "1de54679",
   "metadata": {},
   "source": [
    "---"
   ]
  },
  {
   "cell_type": "markdown",
   "id": "1bc0051a",
   "metadata": {},
   "source": [
    "# Top Spending Cohorts - Procedures (Type of Service)\n",
    "\n"
   ]
  },
  {
   "cell_type": "code",
   "execution_count": 195,
   "id": "9ece643a",
   "metadata": {},
   "outputs": [],
   "source": [
    "top_spending_procedures = compute_top_spending_cohorts(\n",
    "    claims_df=get_cohort_procedures(eg_nid=eg_nid),\n",
    "    reference_date=reference_date,\n",
    "    number_of_rows=6\n",
    ").collect()"
   ]
  },
  {
   "cell_type": "markdown",
   "id": "217d6958",
   "metadata": {},
   "source": [
    "##### Top 5"
   ]
  },
  {
   "cell_type": "code",
   "execution_count": 196,
   "id": "0e38ea20",
   "metadata": {},
   "outputs": [
    {
     "name": "stdout",
     "output_type": "stream",
     "text": [
      "shape: (5, 2)\n",
      "┌────────────────────────────────────────────────────┬──────────────┐\n",
      "│ cohort_name                                        ┆        spend │\n",
      "│ ---                                                ┆          --- │\n",
      "│ str                                                ┆          f64 │\n",
      "╞════════════════════════════════════════════════════╪══════════════╡\n",
      "│ E&M (Office/Outpatient Services)                   ┆ 1,058,813.02 │\n",
      "│ E&M (Behavioral Health Services)                   ┆   304,546.09 │\n",
      "│ Other (Ambulance)                                  ┆   277,621.42 │\n",
      "│ Treatment (Injections and Infusions (nononcolog... ┆   248,133.55 │\n",
      "│ Anesthesia (Anesthesia)                            ┆   205,667.55 │\n",
      "└────────────────────────────────────────────────────┴──────────────┘\n"
     ]
    }
   ],
   "source": [
    "\n",
    "print(top_spending_procedures.filter(pl.col(\"cohort_name\") != \"*\"))"
   ]
  },
  {
   "cell_type": "markdown",
   "id": "296c1a35",
   "metadata": {},
   "source": [
    "---"
   ]
  },
  {
   "cell_type": "markdown",
   "id": "76c7131f",
   "metadata": {},
   "source": [
    "# Top Spending Cohorts - Drug Classes"
   ]
  },
  {
   "cell_type": "code",
   "execution_count": 197,
   "id": "cbfc415f",
   "metadata": {},
   "outputs": [],
   "source": [
    "top_spending_drugs = compute_top_spending_cohorts(\n",
    "    claims_df=get_cohort_drugs_usage(eg_nid=eg_nid),\n",
    "    reference_date=reference_date,\n",
    "    number_of_rows=5\n",
    ").collect()"
   ]
  },
  {
   "cell_type": "markdown",
   "id": "bcd4ec32",
   "metadata": {},
   "source": [
    "##### Top 5"
   ]
  },
  {
   "cell_type": "code",
   "execution_count": 198,
   "id": "686d3f4b",
   "metadata": {},
   "outputs": [
    {
     "name": "stdout",
     "output_type": "stream",
     "text": [
      "shape: (5, 2)\n",
      "┌───────────────────────────────────────┬──────────────┐\n",
      "│ cohort_name                           ┆        spend │\n",
      "│ ---                                   ┆          --- │\n",
      "│ str                                   ┆          f64 │\n",
      "╞═══════════════════════════════════════╪══════════════╡\n",
      "│ Immunosuppressants                    ┆ 2,312,603.13 │\n",
      "│ Drugs Used In Diabetes                ┆   590,144.06 │\n",
      "│ Other Nervous System Drugs            ┆   187,774.15 │\n",
      "│ Drugs For Obstructive Airway Diseases ┆   121,098.38 │\n",
      "│ Analgesics                            ┆    78,816.68 │\n",
      "└───────────────────────────────────────┴──────────────┘\n"
     ]
    }
   ],
   "source": [
    "\n",
    "print(top_spending_drugs)"
   ]
  },
  {
   "cell_type": "markdown",
   "id": "45133501",
   "metadata": {},
   "source": [
    "---"
   ]
  },
  {
   "cell_type": "markdown",
   "id": "03c93093",
   "metadata": {},
   "source": [
    "# Top Sepnding Cohorts - Providers (Medical Speciality)"
   ]
  },
  {
   "cell_type": "code",
   "execution_count": 199,
   "id": "18a117b2",
   "metadata": {},
   "outputs": [],
   "source": [
    "top_spending_providers = compute_top_spending_cohorts(\n",
    "    claims_df=get_cohort_medical_provider_speciality(eg_nid=eg_nid),\n",
    "    reference_date=reference_date,\n",
    "    number_of_rows=6\n",
    ").collect()"
   ]
  },
  {
   "cell_type": "markdown",
   "id": "9dd761f8",
   "metadata": {},
   "source": [
    "##### Top 5"
   ]
  },
  {
   "cell_type": "code",
   "execution_count": 200,
   "id": "19c48ea3",
   "metadata": {},
   "outputs": [
    {
     "name": "stdout",
     "output_type": "stream",
     "text": [
      "shape: (5, 2)\n",
      "┌─────────────────────────────────────────────┬──────────────┐\n",
      "│ cohort_name                                 ┆        spend │\n",
      "│ ---                                         ┆          --- │\n",
      "│ str                                         ┆          f64 │\n",
      "╞═════════════════════════════════════════════╪══════════════╡\n",
      "│ Hospital Short Term  General and Specialty  ┆ 1,706,251.37 │\n",
      "│ Hospital Psychiatric Unit                   ┆   931,914.47 │\n",
      "│ Ambulance Service Provider                  ┆   531,101.09 │\n",
      "│ Hospital Rehabilitation Unit                ┆   413,872.97 │\n",
      "│ Physician Assistant                         ┆   314,240.19 │\n",
      "└─────────────────────────────────────────────┴──────────────┘\n"
     ]
    }
   ],
   "source": [
    "\n",
    "print(top_spending_providers.filter(pl.col(\"cohort_name\") != \"None\"))"
   ]
  },
  {
   "cell_type": "code",
   "execution_count": 201,
   "id": "ffe32da7",
   "metadata": {},
   "outputs": [],
   "source": [
    "# Concatenation of all 'top spending' dataframes\n",
    "\n",
    "concatenated_top_spending = pl.concat([top_spending_diseases_icd_level_2, top_spending_procedures, top_spending_drugs, top_spending_providers])\n",
    "concatenated_top_spending = concatenated_top_spending.filter(pl.col(\"cohort_name\") != \"*\", pl.col(\"cohort_name\") != \"None\")"
   ]
  },
  {
   "cell_type": "markdown",
   "id": "ab61daf8",
   "metadata": {},
   "source": [
    "# TOP SPENDING COHORTS - TOP 3 EXPENSES"
   ]
  },
  {
   "cell_type": "code",
   "execution_count": 202,
   "id": "642b7bfd",
   "metadata": {},
   "outputs": [
    {
     "name": "stdout",
     "output_type": "stream",
     "text": [
      "shape: (3, 2)\n",
      "┌────────────────────────────────────────────┬──────────────┐\n",
      "│ cohort_name                                ┆        value │\n",
      "│ ---                                        ┆          --- │\n",
      "│ str                                        ┆          f64 │\n",
      "╞════════════════════════════════════════════╪══════════════╡\n",
      "│ Immunosuppressants                         ┆ 2,312,603.13 │\n",
      "│ Hospital Short Term  General and Specialty ┆ 1,706,251.37 │\n",
      "│ E&M (Office/Outpatient Services)           ┆ 1,058,813.02 │\n",
      "└────────────────────────────────────────────┴──────────────┘\n"
     ]
    }
   ],
   "source": [
    "# Call the function to get top 'n' rows from (concatenated dataframe of top spending analysis type)\n",
    "top_spending_results = new_top_n_rows(concatenated_top_spending, n=3, analysis_type=\"top spending\")\n",
    "print(top_spending_results)"
   ]
  },
  {
   "cell_type": "code",
   "execution_count": 203,
   "id": "46797a67",
   "metadata": {},
   "outputs": [
    {
     "name": "stdout",
     "output_type": "stream",
     "text": [
      "Successfully inserted document with ID: 6839b6da3c38cd7b533c7af8 for analysis type 'top spending' and eg_nid 'PS'.\n"
     ]
    },
    {
     "data": {
      "text/plain": [
       "ObjectId('6839b6da3c38cd7b533c7af8')"
      ]
     },
     "execution_count": 203,
     "metadata": {},
     "output_type": "execute_result"
    }
   ],
   "source": [
    "# Save the results in mongoDB\n",
    "insert_spending_analysis(df=top_spending_results, analysis_type = \"top spending\", collection=mongodb_collection_obj, eg_nid=eg_nid, reference_date=reference_date)"
   ]
  },
  {
   "cell_type": "markdown",
   "id": "b180f92e",
   "metadata": {},
   "source": [
    "---"
   ]
  },
  {
   "cell_type": "markdown",
   "id": "4eda5205",
   "metadata": {},
   "source": [
    "# Surge in Spending Cohorts - Diseases (ICD Level 2)\n",
    "\n"
   ]
  },
  {
   "cell_type": "code",
   "execution_count": 110,
   "id": "49b52e11",
   "metadata": {},
   "outputs": [],
   "source": [
    "surge_in_spending_diseases_icd_level_2 = compute_outlier_cohorts(\n",
    "    claims_df=get_cohort_diseases_icd_level_2(eg_nid=eg_nid), reference_date=reference_date,\n",
    "    number_of_rows=10   \n",
    ").collect()"
   ]
  },
  {
   "cell_type": "markdown",
   "id": "1fbb2acb",
   "metadata": {},
   "source": [
    "##### Top 10"
   ]
  },
  {
   "cell_type": "code",
   "execution_count": 111,
   "id": "02ff471a",
   "metadata": {},
   "outputs": [
    {
     "name": "stdout",
     "output_type": "stream",
     "text": [
      "shape: (10, 4)\n",
      "┌────────────────────────────────────────────────────────────────────────────────────────────────────────────────────────────────┬──────────────┬──────────────┬──────────────┐\n",
      "│ cohort_name                                                                                                                    ┆ avg_3m_spend ┆ avg_3y_spend ┆ pct_increase │\n",
      "│ ---                                                                                                                            ┆          --- ┆          --- ┆          --- │\n",
      "│ str                                                                                                                            ┆          f64 ┆          f64 ┆          f64 │\n",
      "╞════════════════════════════════════════════════════════════════════════════════════════════════════════════════════════════════╪══════════════╪══════════════╪══════════════╡\n",
      "│  Diseases of veins, lymphatic vessels and lymph nodes, not elsewhere classified                                                ┆    22,513.28 ┆     2,820.41 ┆       698.23 │\n",
      "│  Other osteopathies                                                                                                            ┆    18,256.50 ┆     2,722.98 ┆       570.46 │\n",
      "│  Persons with potential health hazards related to family and personal history and certain conditions influencing health status ┆    22,784.75 ┆     4,886.73 ┆       366.26 │\n",
      "│  Diseases of esophagus, stomach and duodenum                                                                                   ┆     9,140.13 ┆     3,883.85 ┆       135.34 │\n",
      "│  Malignant neoplasms of digestive organs                                                                                       ┆    22,567.07 ┆     9,793.53 ┆       130.43 │\n",
      "│  Other forms of heart disease                                                                                                  ┆    15,611.88 ┆    13,231.95 ┆        17.99 │\n",
      "│  Mood [affective] disorders                                                                                                    ┆     9,330.22 ┆     8,300.66 ┆        12.40 │\n",
      "│  Anxiety, dissociative, stress-related, somatoform and other nonpsychotic mental disorders                                     ┆     9,392.70 ┆     8,818.34 ┆         6.51 │\n",
      "│  Disorders of ocular muscles, binocular movement, accommodation and refraction                                                 ┆     8,828.61 ┆     9,158.19 ┆        -3.60 │\n",
      "│  Osteoarthritis                                                                                                                ┆     8,819.32 ┆    14,929.21 ┆       -40.93 │\n",
      "└────────────────────────────────────────────────────────────────────────────────────────────────────────────────────────────────┴──────────────┴──────────────┴──────────────┘\n"
     ]
    }
   ],
   "source": [
    "surge_in_spending_diseases_icd_level_2 = surge_in_spending_diseases_icd_level_2.sort(\"pct_increase\", descending=True)\n",
    "print(surge_in_spending_diseases_icd_level_2)"
   ]
  },
  {
   "cell_type": "markdown",
   "id": "a28750dc",
   "metadata": {},
   "source": [
    "---"
   ]
  },
  {
   "cell_type": "markdown",
   "id": "17f70f20",
   "metadata": {},
   "source": [
    "# Surge in Spending Cohorts - Procedures (Type of Service)\n",
    "\n"
   ]
  },
  {
   "cell_type": "code",
   "execution_count": 112,
   "id": "f244f9a3",
   "metadata": {},
   "outputs": [],
   "source": [
    "surge_in_spending_procedures = compute_outlier_cohorts(\n",
    "    claims_df=get_cohort_procedures(eg_nid=eg_nid),\n",
    "    reference_date=reference_date,\n",
    "    number_of_rows=11\n",
    ").collect()"
   ]
  },
  {
   "cell_type": "markdown",
   "id": "59d9b8fe",
   "metadata": {},
   "source": [
    "##### Top 10"
   ]
  },
  {
   "cell_type": "code",
   "execution_count": 113,
   "id": "9eb37523",
   "metadata": {},
   "outputs": [
    {
     "name": "stdout",
     "output_type": "stream",
     "text": [
      "shape: (10, 4)\n",
      "┌────────────────────────────────────────────────────┬──────────────┬──────────────┬──────────────┐\n",
      "│ cohort_name                                        ┆ avg_3m_spend ┆ avg_3y_spend ┆ pct_increase │\n",
      "│ ---                                                ┆          --- ┆          --- ┆          --- │\n",
      "│ str                                                ┆          f64 ┆          f64 ┆          f64 │\n",
      "╞════════════════════════════════════════════════════╪══════════════╪══════════════╪══════════════╡\n",
      "│ E&M (Behavioral Health Services)                   ┆    12,959.77 ┆    11,864.55 ┆         9.23 │\n",
      "│ Other (Vision, Hearing, and Speech Services)       ┆     5,002.19 ┆     4,913.24 ┆         1.81 │\n",
      "│ Procedure (Digestive/Gastrointestinal)             ┆     3,492.60 ┆     3,679.91 ┆        -5.09 │\n",
      "│ Treatment (Physical, Occupational, and Speech T... ┆     5,497.41 ┆     5,898.43 ┆        -6.80 │\n",
      "│ E&M (Ophthalmological Services)                    ┆     5,198.05 ┆     5,875.41 ┆       -11.53 │\n",
      "│ E&M (Office/Outpatient Services)                   ┆    37,485.46 ┆    43,205.03 ┆       -13.24 │\n",
      "│ Procedure (Other Organ Systems)                    ┆     4,915.80 ┆     6,032.22 ┆       -18.51 │\n",
      "│ Anesthesia (Anesthesia)                            ┆     6,487.86 ┆     8,800.20 ┆       -26.28 │\n",
      "│ Treatment (Injections and Infusions (nononcolog... ┆     5,118.21 ┆    10,032.70 ┆       -48.98 │\n",
      "│ Procedure (Musculoskeletal)                        ┆     2,986.28 ┆     9,992.16 ┆       -70.11 │\n",
      "└────────────────────────────────────────────────────┴──────────────┴──────────────┴──────────────┘\n"
     ]
    }
   ],
   "source": [
    "surge_in_spending_procedures = surge_in_spending_procedures.filter(pl.col(\"cohort_name\") != \"*\")\n",
    "surge_in_spending_procedures = surge_in_spending_procedures.sort(\"pct_increase\", descending=True)\n",
    "print(surge_in_spending_procedures.head(10))"
   ]
  },
  {
   "cell_type": "markdown",
   "id": "195c1e70",
   "metadata": {},
   "source": [
    "---"
   ]
  },
  {
   "cell_type": "markdown",
   "id": "39c6a45d",
   "metadata": {},
   "source": [
    "# Surge in Spending Cohorts - Drug Classes\n",
    "\n"
   ]
  },
  {
   "cell_type": "code",
   "execution_count": 114,
   "id": "9138afd9",
   "metadata": {},
   "outputs": [],
   "source": [
    "surge_in_spending_drugs = compute_outlier_cohorts(\n",
    "    claims_df=get_cohort_drugs_usage(eg_nid=eg_nid),\n",
    "    reference_date=reference_date,\n",
    "    number_of_rows=10\n",
    ").collect()"
   ]
  },
  {
   "cell_type": "markdown",
   "id": "8357ae59",
   "metadata": {},
   "source": [
    "##### Top 10"
   ]
  },
  {
   "cell_type": "code",
   "execution_count": 115,
   "id": "42c17119",
   "metadata": {},
   "outputs": [
    {
     "name": "stdout",
     "output_type": "stream",
     "text": [
      "shape: (10, 4)\n",
      "┌───────────────────────────────────────────────────┬──────────────┬──────────────┬──────────────┐\n",
      "│ cohort_name                                       ┆ avg_3m_spend ┆ avg_3y_spend ┆ pct_increase │\n",
      "│ ---                                               ┆          --- ┆          --- ┆          --- │\n",
      "│ str                                               ┆          f64 ┆          f64 ┆          f64 │\n",
      "╞═══════════════════════════════════════════════════╪══════════════╪══════════════╪══════════════╡\n",
      "│ Antivirals For Systemic Use                       ┆     1,461.05 ┆       419.00 ┆       248.70 │\n",
      "│ Psycholeptics                                     ┆     5,570.42 ┆     1,955.02 ┆       184.93 │\n",
      "│ Drugs For Obstructive Airway Diseases             ┆     5,542.43 ┆     3,697.98 ┆        49.88 │\n",
      "│ Analgesics                                        ┆     3,274.94 ┆     2,314.52 ┆        41.50 │\n",
      "│ Antithrombotic Agents                             ┆     2,758.91 ┆     2,076.99 ┆        32.83 │\n",
      "│ Sex Hormones And Modulators Of The Genital System ┆     1,724.80 ┆     1,376.81 ┆        25.28 │\n",
      "│ Drugs Used In Diabetes                            ┆    22,874.06 ┆    18,563.69 ┆        23.22 │\n",
      "│ Immunosuppressants                                ┆    78,661.02 ┆    72,594.27 ┆         8.36 │\n",
      "│ Psychoanaleptics                                  ┆     1,656.34 ┆     1,608.01 ┆         3.01 │\n",
      "│ Other Nervous System Drugs                        ┆       974.08 ┆     5,999.07 ┆       -83.76 │\n",
      "└───────────────────────────────────────────────────┴──────────────┴──────────────┴──────────────┘\n"
     ]
    }
   ],
   "source": [
    "surge_in_spending_drugs = surge_in_spending_drugs.filter(pl.col(\"cohort_name\") != \"*\")\n",
    "surge_in_spending_drugs = surge_in_spending_drugs.sort(\"pct_increase\", descending=True)\n",
    "print(surge_in_spending_drugs.head(10))"
   ]
  },
  {
   "cell_type": "markdown",
   "id": "8648fef2",
   "metadata": {},
   "source": [
    "---"
   ]
  },
  {
   "cell_type": "markdown",
   "id": "b8bec5a9",
   "metadata": {},
   "source": [
    "# Surge in Spending Cohorts - Providers (Medical Speciality)\n",
    "\n"
   ]
  },
  {
   "cell_type": "code",
   "execution_count": 116,
   "id": "5338984e",
   "metadata": {},
   "outputs": [],
   "source": [
    "surge_in_spending_providers_medical_speciality = compute_outlier_cohorts(\n",
    "    claims_df=get_cohort_medical_provider_speciality(eg_nid=eg_nid),\n",
    "    reference_date=reference_date,\n",
    "    number_of_rows=10\n",
    ").collect()"
   ]
  },
  {
   "cell_type": "markdown",
   "id": "ce3866fc",
   "metadata": {},
   "source": [
    "##### Top 10"
   ]
  },
  {
   "cell_type": "code",
   "execution_count": 117,
   "id": "c7eda8ac",
   "metadata": {},
   "outputs": [
    {
     "name": "stdout",
     "output_type": "stream",
     "text": [
      "shape: (9, 4)\n",
      "┌─────────────────────────────────────────────┬──────────────┬──────────────┬──────────────┐\n",
      "│ cohort_name                                 ┆ avg_3m_spend ┆ avg_3y_spend ┆ pct_increase │\n",
      "│ ---                                         ┆          --- ┆          --- ┆          --- │\n",
      "│ str                                         ┆          f64 ┆          f64 ┆          f64 │\n",
      "╞═════════════════════════════════════════════╪══════════════╪══════════════╪══════════════╡\n",
      "│ Hospitals                                   ┆     5,250.49 ┆     1,568.93 ┆       234.65 │\n",
      "│ Hospital Rehabilitation Unit                ┆    25,269.13 ┆    14,265.73 ┆        77.13 │\n",
      "│ Ambulance Service Provider                  ┆    25,099.33 ┆    17,279.29 ┆        45.26 │\n",
      "│ Optometry                                   ┆     8,537.59 ┆     8,820.38 ┆        -3.21 │\n",
      "│ Nurse Practitioner                          ┆     6,930.87 ┆     9,343.63 ┆       -25.82 │\n",
      "│ Hospital Short Term  General and Specialty  ┆    59,399.73 ┆    80,652.24 ┆       -26.35 │\n",
      "│ Physician Assistant                         ┆    10,076.90 ┆    13,970.32 ┆       -27.87 │\n",
      "│ Hospital Psychiatric Unit                   ┆    17,655.88 ┆    28,212.85 ┆       -37.42 │\n",
      "│ Critical Access Hospital                    ┆     5,782.97 ┆     9,471.80 ┆       -38.95 │\n",
      "└─────────────────────────────────────────────┴──────────────┴──────────────┴──────────────┘\n"
     ]
    }
   ],
   "source": [
    "surge_in_spending_providers_medical_speciality = surge_in_spending_providers_medical_speciality.filter(pl.col(\"cohort_name\") != \"None\")\n",
    "surge_in_spending_providers_medical_speciality = surge_in_spending_providers_medical_speciality.filter(pl.col(\"cohort_name\")!= \"*\")\n",
    "surge_in_spending_providers_medical_speciality = surge_in_spending_providers_medical_speciality.sort(\"pct_increase\", descending=True)\n",
    "print(surge_in_spending_providers_medical_speciality.head(10))"
   ]
  },
  {
   "cell_type": "code",
   "execution_count": 118,
   "id": "f20df06e",
   "metadata": {},
   "outputs": [],
   "source": [
    "# Concatenation of all 'surge in spending' dataframes\n",
    "concatenated_surge_in_spending = pl.concat([surge_in_spending_diseases_icd_level_2,surge_in_spending_procedures,surge_in_spending_drugs,surge_in_spending_providers_medical_speciality])\n",
    "concatenated_surge_in_spending = concatenated_surge_in_spending.filter(pl.col(\"cohort_name\") != \"*\", pl.col(\"cohort_name\") != \"None\")\n"
   ]
  },
  {
   "cell_type": "markdown",
   "id": "d481c1cb",
   "metadata": {},
   "source": [
    "# SURGE IN SPENDING - TOP 3"
   ]
  },
  {
   "cell_type": "code",
   "execution_count": 119,
   "id": "8aa5a4a2",
   "metadata": {},
   "outputs": [
    {
     "name": "stdout",
     "output_type": "stream",
     "text": [
      "shape: (3, 2)\n",
      "┌───────────────────────────────────────────────────────────────────────────────────────────────────────────────────────────────┬────────┐\n",
      "│ cohort_name                                                                                                                   ┆  value │\n",
      "│ ---                                                                                                                           ┆    --- │\n",
      "│ str                                                                                                                           ┆    f64 │\n",
      "╞═══════════════════════════════════════════════════════════════════════════════════════════════════════════════════════════════╪════════╡\n",
      "│ Diseases of veins, lymphatic vessels and lymph nodes, not elsewhere classified                                                ┆ 698.23 │\n",
      "│ Other osteopathies                                                                                                            ┆ 570.46 │\n",
      "│ Persons with potential health hazards related to family and personal history and certain conditions influencing health status ┆ 366.26 │\n",
      "└───────────────────────────────────────────────────────────────────────────────────────────────────────────────────────────────┴────────┘\n"
     ]
    }
   ],
   "source": [
    "# Call the function to get top 'n' rows from (concatenated dataframe of surge in spending analysis type)\n",
    "new_top_n_rows_surge = new_top_n_rows(concatenated_surge_in_spending, n=3, analysis_type = \"surge in spending\")\n",
    "print(new_top_n_rows_surge)"
   ]
  },
  {
   "cell_type": "code",
   "execution_count": null,
   "id": "7f7b641e",
   "metadata": {},
   "outputs": [
    {
     "name": "stdout",
     "output_type": "stream",
     "text": [
      "Successfully inserted document with ID: 6839b40d3c38cd7b533c7aed for analysis type 'surge in spending' and eg_nid 'PS'.\n"
     ]
    },
    {
     "data": {
      "text/plain": [
       "ObjectId('6839b40d3c38cd7b533c7aed')"
      ]
     },
     "execution_count": 120,
     "metadata": {},
     "output_type": "execute_result"
    }
   ],
   "source": [
    "# Save the results in mongoDB\n",
    "# insert_spending_analysis(df=new_top_n_rows_surge, analysis_type = \"surge in spending\", collection=mongodb_collection_obj, eg_nid=eg_nid, reference_date=reference_date)"
   ]
  },
  {
   "cell_type": "markdown",
   "id": "9f6a6a20",
   "metadata": {},
   "source": [
    "---"
   ]
  },
  {
   "cell_type": "markdown",
   "id": "b97ce9db",
   "metadata": {},
   "source": [
    "# Emerging Spending Cohorts - Diseases (ICD Level 2)\n"
   ]
  },
  {
   "cell_type": "code",
   "execution_count": 24,
   "id": "eb39b44f",
   "metadata": {},
   "outputs": [],
   "source": [
    "emerging_spending_diseases_icd_level_2 = compute_emerging_cohorts(\n",
    "    claims_df=get_cohort_diseases_icd_level_2(eg_nid=eg_nid), reference_date=reference_date,\n",
    "    number_of_rows=10\n",
    ").collect()"
   ]
  },
  {
   "cell_type": "markdown",
   "id": "d5d48ab6",
   "metadata": {},
   "source": [
    "##### Top 10"
   ]
  },
  {
   "cell_type": "code",
   "execution_count": 25,
   "id": "f90b74dd",
   "metadata": {},
   "outputs": [
    {
     "name": "stdout",
     "output_type": "stream",
     "text": [
      "shape: (10, 4)\n",
      "┌────────────────────────────────────────────────────────────────────────────────────────────┬──────────────┬──────────────┬──────────────┐\n",
      "│ cohort_name                                                                                ┆ avg_1y_spend ┆ avg_3y_spend ┆ pct_increase │\n",
      "│ ---                                                                                        ┆          --- ┆          --- ┆          --- │\n",
      "│ str                                                                                        ┆          f64 ┆          f64 ┆          f64 │\n",
      "╞════════════════════════════════════════════════════════════════════════════════════════════╪══════════════╪══════════════╪══════════════╡\n",
      "│  Edema, proteinuria and hypertensive disorders in pregnancy, childbirth and the puerperium ┆    10,722.29 ┆     3,664.82 ┆       192.57 │\n",
      "│  Malignant neoplasms of lymphoid, hematopoietic and related tissue                         ┆    39,685.13 ┆    14,522.33 ┆       173.27 │\n",
      "│  Ischemic heart diseases                                                                   ┆    17,769.59 ┆     8,526.29 ┆       108.41 │\n",
      "│  Encounters for other specific health care                                                 ┆    22,636.15 ┆    13,509.58 ┆        67.56 │\n",
      "│  Malignant neoplasms of digestive organs                                                   ┆    14,463.73 ┆     9,793.53 ┆        47.69 │\n",
      "│  Mood [affective] disorders                                                                ┆    11,503.24 ┆     8,300.66 ┆        38.58 │\n",
      "│  Complications of surgical and medical care, not elsewhere classified                      ┆     9,735.01 ┆     7,234.88 ┆        34.56 │\n",
      "│  Persons encountering health services in circumstances related to reproduction             ┆    11,184.25 ┆     8,475.38 ┆        31.96 │\n",
      "│  Anxiety, dissociative, stress-related, somatoform and other nonpsychotic mental disorders ┆     9,268.73 ┆     8,818.34 ┆         5.11 │\n",
      "│  Osteoarthritis                                                                            ┆    11,165.18 ┆    14,929.21 ┆       -25.21 │\n",
      "└────────────────────────────────────────────────────────────────────────────────────────────┴──────────────┴──────────────┴──────────────┘\n"
     ]
    }
   ],
   "source": [
    "emerging_spending_diseases_icd_level_2 = emerging_spending_diseases_icd_level_2.sort(\"pct_increase\", descending=True)\n",
    "emerging_spending_diseases_icd_level_2 = emerging_spending_diseases_icd_level_2.filter(pl.col(\"cohort_name\") != \"*\")\n",
    "emerging_spending_diseases_icd_level_2 = emerging_spending_diseases_icd_level_2.filter(pl.col(\"cohort_name\") != \"None\")\n",
    "print(emerging_spending_diseases_icd_level_2.head(10))"
   ]
  },
  {
   "cell_type": "markdown",
   "id": "cb1d81ca",
   "metadata": {},
   "source": [
    "---"
   ]
  },
  {
   "cell_type": "code",
   "execution_count": null,
   "id": "33920f0f",
   "metadata": {},
   "outputs": [],
   "source": []
  },
  {
   "cell_type": "markdown",
   "id": "177e06f2",
   "metadata": {},
   "source": [
    "# Emerging Spending Cohorts - Procedures (Type of Service)\n",
    "\n"
   ]
  },
  {
   "cell_type": "code",
   "execution_count": 26,
   "id": "34deab1a",
   "metadata": {},
   "outputs": [],
   "source": [
    "emerging_spending_procedures = compute_emerging_cohorts(\n",
    "    claims_df=get_cohort_procedures(eg_nid=eg_nid),\n",
    "    reference_date=reference_date,\n",
    "    number_of_rows=10\n",
    ").collect()"
   ]
  },
  {
   "cell_type": "markdown",
   "id": "ffb437e1",
   "metadata": {},
   "source": [
    "##### Top 10"
   ]
  },
  {
   "cell_type": "code",
   "execution_count": 27,
   "id": "a8507da0",
   "metadata": {},
   "outputs": [
    {
     "name": "stdout",
     "output_type": "stream",
     "text": [
      "shape: (9, 4)\n",
      "┌────────────────────────────────────────────────────┬──────────────┬──────────────┬──────────────┐\n",
      "│ cohort_name                                        ┆ avg_1y_spend ┆ avg_3y_spend ┆ pct_increase │\n",
      "│ ---                                                ┆          --- ┆          --- ┆          --- │\n",
      "│ str                                                ┆          f64 ┆          f64 ┆          f64 │\n",
      "╞════════════════════════════════════════════════════╪══════════════╪══════════════╪══════════════╡\n",
      "│ Treatment (Chemotherapy)                           ┆    15,565.31 ┆     5,737.62 ┆       171.29 │\n",
      "│ E&M (Behavioral Health Services)                   ┆    12,623.85 ┆    11,864.55 ┆         6.40 │\n",
      "│ Treatment (Physical, Occupational, and Speech T... ┆     6,248.87 ┆     5,898.43 ┆         5.94 │\n",
      "│ Procedure (Other Organ Systems)                    ┆     6,292.20 ┆     6,032.22 ┆         4.31 │\n",
      "│ E&M (Office/Outpatient Services)                   ┆    44,294.36 ┆    43,205.03 ┆         2.52 │\n",
      "│ Anesthesia (Anesthesia)                            ┆     8,304.32 ┆     8,800.20 ┆        -5.63 │\n",
      "│ Treatment (Injections and Infusions (nononcolog... ┆     7,698.02 ┆    10,032.70 ┆       -23.27 │\n",
      "│ Other (Ambulance)                                  ┆     5,973.51 ┆     7,923.84 ┆       -24.61 │\n",
      "│ Procedure (Musculoskeletal)                        ┆     5,968.38 ┆     9,992.16 ┆       -40.27 │\n",
      "└────────────────────────────────────────────────────┴──────────────┴──────────────┴──────────────┘\n"
     ]
    }
   ],
   "source": [
    "emerging_spending_procedures = emerging_spending_procedures.filter(pl.col(\"cohort_name\") != \"*\")\n",
    "emerging_spending_procedures = emerging_spending_procedures.filter(pl.col(\"cohort_name\") != \"None\")\n",
    "emerging_spending_procedures = emerging_spending_procedures.sort(\"pct_increase\", descending=True)\n",
    "print(emerging_spending_procedures.head(10))"
   ]
  },
  {
   "cell_type": "markdown",
   "id": "aaaf7270",
   "metadata": {},
   "source": [
    "---"
   ]
  },
  {
   "cell_type": "markdown",
   "id": "b0c91b8c",
   "metadata": {},
   "source": [
    "# Emerging Spending Cohorts - Drug Classes\n",
    "\n"
   ]
  },
  {
   "cell_type": "code",
   "execution_count": 28,
   "id": "911168a0",
   "metadata": {},
   "outputs": [],
   "source": [
    "emerging_spending_drugs = compute_emerging_cohorts(\n",
    "    claims_df=get_cohort_drugs_usage(eg_nid=eg_nid),\n",
    "    reference_date=reference_date,\n",
    "    number_of_rows=10\n",
    ").collect()"
   ]
  },
  {
   "cell_type": "markdown",
   "id": "1a673a0e",
   "metadata": {},
   "source": [
    "##### Top 10"
   ]
  },
  {
   "cell_type": "code",
   "execution_count": 29,
   "id": "1de254b8",
   "metadata": {},
   "outputs": [
    {
     "name": "stdout",
     "output_type": "stream",
     "text": [
      "shape: (10, 4)\n",
      "┌───────────────────────────────────────────────────┬──────────────┬──────────────┬──────────────┐\n",
      "│ cohort_name                                       ┆ avg_1y_spend ┆ avg_3y_spend ┆ pct_increase │\n",
      "│ ---                                               ┆          --- ┆          --- ┆          --- │\n",
      "│ str                                               ┆          f64 ┆          f64 ┆          f64 │\n",
      "╞═══════════════════════════════════════════════════╪══════════════╪══════════════╪══════════════╡\n",
      "│ Antivirals For Systemic Use                       ┆       980.90 ┆       419.00 ┆       134.10 │\n",
      "│ Psycholeptics                                     ┆     3,693.63 ┆     1,955.02 ┆        88.93 │\n",
      "│ Antithrombotic Agents                             ┆     3,571.85 ┆     2,076.99 ┆        71.97 │\n",
      "│ Drugs For Obstructive Airway Diseases             ┆     5,689.00 ┆     3,699.08 ┆        53.80 │\n",
      "│ Immunosuppressants                                ┆    97,502.14 ┆    72,594.27 ┆        34.31 │\n",
      "│ Analgesics                                        ┆     3,076.40 ┆     2,314.52 ┆        32.92 │\n",
      "│ Drugs Used In Diabetes                            ┆    23,213.54 ┆    18,563.69 ┆        25.05 │\n",
      "│ Psychoanaleptics                                  ┆     1,933.71 ┆     1,608.01 ┆        20.26 │\n",
      "│ Sex Hormones And Modulators Of The Genital System ┆     1,458.76 ┆     1,376.81 ┆         5.95 │\n",
      "│ Other Nervous System Drugs                        ┆     6,092.36 ┆     5,999.07 ┆         1.56 │\n",
      "└───────────────────────────────────────────────────┴──────────────┴──────────────┴──────────────┘\n"
     ]
    }
   ],
   "source": [
    "emerging_spending_drugs = emerging_spending_drugs.filter(pl.col(\"cohort_name\") != \"*\")\n",
    "emerging_spending_drugs = emerging_spending_drugs.filter(pl.col(\"cohort_name\") != \"None\")\n",
    "emerging_spending_drugs = emerging_spending_drugs.sort(\"pct_increase\", descending=True)\n",
    "print(emerging_spending_drugs.head(10))"
   ]
  },
  {
   "cell_type": "markdown",
   "id": "f468c9eb",
   "metadata": {},
   "source": [
    "---"
   ]
  },
  {
   "cell_type": "markdown",
   "id": "021f3724",
   "metadata": {},
   "source": [
    "# Emerging Spending Cohorts - Providers (Medical Speciality)\n",
    "\n"
   ]
  },
  {
   "cell_type": "code",
   "execution_count": 30,
   "id": "fe615428",
   "metadata": {},
   "outputs": [],
   "source": [
    "emerging_spending_providers_medical_speciality = compute_emerging_cohorts(\n",
    "    claims_df=get_cohort_medical_provider_speciality(eg_nid=eg_nid),\n",
    "    reference_date=reference_date,\n",
    "    number_of_rows=11\n",
    ").collect()"
   ]
  },
  {
   "cell_type": "markdown",
   "id": "877d8366",
   "metadata": {},
   "source": [
    "##### Top 10"
   ]
  },
  {
   "cell_type": "code",
   "execution_count": 31,
   "id": "0681ec61",
   "metadata": {},
   "outputs": [
    {
     "name": "stdout",
     "output_type": "stream",
     "text": [
      "shape: (10, 4)\n",
      "┌─────────────────────────────────────────────┬──────────────┬──────────────┬──────────────┐\n",
      "│ cohort_name                                 ┆ avg_1y_spend ┆ avg_3y_spend ┆ pct_increase │\n",
      "│ ---                                         ┆          --- ┆          --- ┆          --- │\n",
      "│ str                                         ┆          f64 ┆          f64 ┆          f64 │\n",
      "╞═════════════════════════════════════════════╪══════════════╪══════════════╪══════════════╡\n",
      "│ Pharmacy                                    ┆    18,566.90 ┆    11,508.85 ┆        61.33 │\n",
      "│ Hospital Rehabilitation Unit                ┆    18,913.67 ┆    14,265.73 ┆        32.58 │\n",
      "│ Hospital Psychiatric Unit                   ┆    37,336.91 ┆    28,212.85 ┆        32.34 │\n",
      "│ Physician General Surgery                   ┆     9,574.85 ┆     7,241.05 ┆        32.23 │\n",
      "│ Critical Access Hospital                    ┆    10,057.78 ┆     9,471.80 ┆         6.19 │\n",
      "│ Ambulance Service Provider                  ┆    17,135.67 ┆    17,279.29 ┆        -0.83 │\n",
      "│ Nurse Practitioner                          ┆     8,910.78 ┆     9,343.63 ┆        -4.63 │\n",
      "│ Hospital Short Term  General and Specialty  ┆    76,539.55 ┆    80,652.24 ┆        -5.10 │\n",
      "│ Optometry                                   ┆     8,316.06 ┆     8,820.38 ┆        -5.72 │\n",
      "│ Physician Assistant                         ┆    12,587.42 ┆    13,970.32 ┆        -9.90 │\n",
      "└─────────────────────────────────────────────┴──────────────┴──────────────┴──────────────┘\n"
     ]
    }
   ],
   "source": [
    "emerging_spending_providers_medical_speciality = emerging_spending_providers_medical_speciality.filter(pl.col(\"cohort_name\") != \"*\")\n",
    "emerging_spending_providers_medical_speciality = emerging_spending_providers_medical_speciality.filter(pl.col(\"cohort_name\") != \"None\")\n",
    "emerging_spending_providers_medical_speciality = emerging_spending_providers_medical_speciality.sort(\"pct_increase\", descending=True)\n",
    "print(emerging_spending_providers_medical_speciality.head(10))"
   ]
  },
  {
   "cell_type": "code",
   "execution_count": null,
   "id": "f250cecc",
   "metadata": {},
   "outputs": [],
   "source": [
    "# Concatenation of all 'emerging spending' dataframes\n",
    "concatenated_emerging_spending = pl.concat([emerging_spending_diseases_icd_level_2, emerging_spending_procedures, emerging_spending_drugs, emerging_spending_providers_medical_speciality])\n"
   ]
  },
  {
   "cell_type": "markdown",
   "id": "27e77444",
   "metadata": {},
   "source": [
    "# EMERGING SPENDING - TOP 3"
   ]
  },
  {
   "cell_type": "code",
   "execution_count": 33,
   "id": "de704954",
   "metadata": {},
   "outputs": [
    {
     "name": "stdout",
     "output_type": "stream",
     "text": [
      "shape: (3, 2)\n",
      "┌───────────────────────────────────────────────────────────────────────────────────────────┬────────┐\n",
      "│ cohort_name                                                                               ┆  value │\n",
      "│ ---                                                                                       ┆    --- │\n",
      "│ str                                                                                       ┆    f64 │\n",
      "╞═══════════════════════════════════════════════════════════════════════════════════════════╪════════╡\n",
      "│ Edema, proteinuria and hypertensive disorders in pregnancy, childbirth and the puerperium ┆ 192.57 │\n",
      "│ Malignant neoplasms of lymphoid, hematopoietic and related tissue                         ┆ 173.27 │\n",
      "│ Treatment (Chemotherapy)                                                                  ┆ 171.29 │\n",
      "└───────────────────────────────────────────────────────────────────────────────────────────┴────────┘\n"
     ]
    }
   ],
   "source": [
    "# Call the function to get top 'n' rows from (concatenated dataframe of top spending analysis type)\n",
    "new_top_n_rows_emerging = new_top_n_rows(concatenated_emerging_spending, n=3, analysis_type = \"emerging spending\")\n",
    "print(new_top_n_rows_emerging)\n",
    "\n",
    "\n"
   ]
  },
  {
   "cell_type": "code",
   "execution_count": null,
   "id": "40b5568b",
   "metadata": {},
   "outputs": [
    {
     "name": "stdout",
     "output_type": "stream",
     "text": [
      "Successfully inserted document with ID: 6839932f5e509880d3cc16b3 for analysis type 'emerging spending' and eg_nid 'PS'.\n"
     ]
    },
    {
     "data": {
      "text/plain": [
       "ObjectId('6839932f5e509880d3cc16b3')"
      ]
     },
     "execution_count": 34,
     "metadata": {},
     "output_type": "execute_result"
    }
   ],
   "source": [
    "# Save the results in mongoDB\n",
    "# insert_spending_analysis(df=new_top_n_rows_emerging, analysis_type = \"emerging spending\", collection=mongodb_collection_obj, eg_nid=eg_nid, reference_date=reference_date)"
   ]
  },
  {
   "cell_type": "markdown",
   "id": "a3339295",
   "metadata": {},
   "source": [
    "---"
   ]
  }
 ],
 "metadata": {
  "kernelspec": {
   "display_name": "Python 3",
   "language": "python",
   "name": "python3"
  },
  "language_info": {
   "codemirror_mode": {
    "name": "ipython",
    "version": 3
   },
   "file_extension": ".py",
   "mimetype": "text/x-python",
   "name": "python",
   "nbconvert_exporter": "python",
   "pygments_lexer": "ipython3",
   "version": "3.8.10"
  }
 },
 "nbformat": 4,
 "nbformat_minor": 5
}
